{
 "cells": [
  {
   "cell_type": "markdown",
   "metadata": {},
   "source": [
    "# Modelling Customer Satisfaction"
   ]
  },
  {
   "cell_type": "markdown",
   "metadata": {},
   "source": [
    "##### The aim of this project is to model customer satisfaction for a logistics and delivery startup. The dataset we will be working with was collected via a customer satisfaction survey, and provided by the startup. Our goal is to create a model that predicts customer satisfaction given responses to the other questions in the survey. Furthermore, our aim is to create an easily interpretable model, so that the startup can learn where it needs to improve its service to improve customer satisfaction. "
   ]
  },
  {
   "cell_type": "markdown",
   "metadata": {},
   "source": [
    "Useful python libraries and functions to use later on"
   ]
  },
  {
   "cell_type": "code",
   "execution_count": 1,
   "metadata": {},
   "outputs": [
    {
     "name": "stdout",
     "output_type": "stream",
     "text": [
      "7980\n"
     ]
    }
   ],
   "source": [
    "import random\n",
    "seed = random.randint(1000,9999)\n",
    "print(seed)"
   ]
  },
  {
   "cell_type": "code",
   "execution_count": 3,
   "metadata": {},
   "outputs": [],
   "source": [
    "seed = 7980"
   ]
  },
  {
   "cell_type": "code",
   "execution_count": 10,
   "metadata": {},
   "outputs": [],
   "source": [
    "from imblearn.pipeline import Pipeline\n",
    "from sklearn.preprocessing import MinMaxScaler, OneHotEncoder, LabelEncoder\n",
    "from sklearn.impute import SimpleImputer\n",
    "from sklearn.compose import ColumnTransformer\n",
    "from imblearn.over_sampling import RandomOverSampler\n",
    "from imblearn.under_sampling import RandomUnderSampler\n",
    "from sklearn.model_selection import train_test_split\n",
    "from sklearn.tree import DecisionTreeClassifier\n",
    "from sklearn.linear_model import LogisticRegression\n",
    "from sklearn.model_selection import StratifiedKFold, GridSearchCV, RandomizedSearchCV\n",
    "from sklearn.metrics import (\n",
    "    make_scorer, precision_score, recall_score, roc_auc_score, f1_score, accuracy_score, classification_report,\n",
    "    roc_curve, auc, precision_recall_curve, confusion_matrix)\n",
    "from scipy.stats.distributions import loguniform\n",
    "import warnings\n",
    "warnings.filterwarnings(\"ignore\")\n",
    "\n",
    "import numpy as np\n",
    "import matplotlib.pyplot as plt\n",
    "\n",
    "import seaborn as sns\n",
    "\n",
    "from lazypredict.Supervised import LazyClassifier\n",
    "\n",
    "from sklearn.model_selection import cross_validate\n",
    "from sklearn.linear_model import LogisticRegression\n",
    "from sklearn.pipeline import Pipeline  # combining classifier steps\n",
    "from sklearn.preprocessing import StandardScaler # scaling features\n",
    "\n",
    "import numpy as np\n",
    "from hyperopt import fmin, tpe, hp, STATUS_OK, Trials\n",
    "from sklearn.tree import DecisionTreeClassifier\n",
    "from sklearn.feature_selection import RFE\n",
    "from sklearn.pipeline import Pipeline\n",
    "from sklearn.model_selection import cross_val_score\n",
    "from sklearn.metrics import recall_score, make_scorer\n",
    "from hyperopt import space_eval\n",
    "\n"
   ]
  },
  {
   "cell_type": "code",
   "execution_count": 5,
   "metadata": {},
   "outputs": [],
   "source": [
    "#ROC curve drawing by using the helper function\n",
    "def plot_roc_curve(roc):\n",
    "    \"\"\"\n",
    "    Plots the ROC curve from a DataFrame.\n",
    "    \n",
    "    Parameters:\n",
    "    - roc: DataFrame containing 'false positive rate', 'true positive rate', and 'threshold' columns.\n",
    "    \"\"\"\n",
    "    plt.figure(figsize=(8, 6))\n",
    "    plt.plot(roc['false positive rate'], roc['true positive rate'], label='ROC Curve')\n",
    "    plt.plot([0, 1], [0, 1], 'k--', label='Random Guess')  # adding a 45-degree dashed line\n",
    "    plt.xlabel('False Positive Rate')\n",
    "    plt.ylabel('True Positive Rate')\n",
    "    plt.title('Receiver Operating Characteristic (ROC) Curve')\n",
    "    plt.legend(loc='lower right')\n",
    "    plt.grid(True)\n",
    "    plt.show()"
   ]
  },
  {
   "cell_type": "code",
   "execution_count": 6,
   "metadata": {},
   "outputs": [],
   "source": [
    "def pretty_confusion_matrix(confmat, labels, title, labeling=False, highlight_indexes=[]):\n",
    "    '''\n",
    "    Plots the confusion matrix, given relevant data.\n",
    "    '''\n",
    "    labels_list = [[\"TN\", \"FP\"], [\"FN\", \"TP\"]]\n",
    "    \n",
    "    fig, ax = plt.subplots(figsize=(4, 4))\n",
    "    ax.matshow(confmat, cmap=plt.cm.Blues, alpha=0.3)\n",
    "    for i in range(confmat.shape[0]):\n",
    "        for j in range(confmat.shape[1]):\n",
    "            if labeling:\n",
    "                label = str(confmat[i, j])+\" (\"+labels_list[i][j]+\")\"\n",
    "            else:\n",
    "                label = confmat[i, j]\n",
    "            \n",
    "            \n",
    "            if [i,j] in highlight_indexes:\n",
    "                ax.text(x=j, y=i, s=label, va='center', ha='center',\n",
    "                        weight = \"bold\", fontsize=18, color='#32618b')\n",
    "            else:\n",
    "                ax.text(x=j, y=i, s=label, va='center', ha='center')\n",
    "       \n",
    "    # change the labels\n",
    "    with warnings.catch_warnings():\n",
    "        warnings.simplefilter(\"ignore\")\n",
    "        ax.set_xticklabels(['']+[labels[0], labels[1]])\n",
    "        ax.set_yticklabels(['']+[labels[0], labels[1]])\n",
    "\n",
    "    plt.xlabel('Predicted Label')\n",
    "    plt.ylabel('True Label')\n",
    "    ax.xaxis.set_label_position('top')\n",
    "    plt.suptitle(title)\n",
    "    plt.tight_layout()\n",
    "    \n",
    "    plt.show()"
   ]
  },
  {
   "cell_type": "code",
   "execution_count": 7,
   "metadata": {},
   "outputs": [],
   "source": [
    "from matplotlib.patches import Patch\n",
    "\n",
    "def plot_coefs(all_coeffs, order, title):\n",
    "    '''\n",
    "    Function for plotting a barplot of the coefficients of the fitted model.\n",
    "    Will be used in logistic regression model.\n",
    "    '''\n",
    "    # setting colors for positive and negative coefficients.\n",
    "    colors = ['red' if value > 0 else 'blue' for value in all_coeffs]\n",
    "    \n",
    "    plt.bar(range(len(all_coeffs)),all_coeffs, align='center', color=colors)\n",
    "    plt.xticks(range(len(order)), order, size='small',rotation = 70)\n",
    "    plt.tight_layout\n",
    "    # Create custom legend entries\n",
    "    legend_handles = [\n",
    "        Patch(color='red', label='Positive'),\n",
    "        Patch(color='blue', label='Negative')\n",
    "    ]\n",
    "    \n",
    "    plt.legend(handles=legend_handles)\n",
    "    \n",
    "    # Set labels and title\n",
    "    plt.xlabel('Features')\n",
    "    plt.ylabel('Coefficient Value')\n",
    "    plt.title(title)"
   ]
  },
  {
   "cell_type": "markdown",
   "metadata": {},
   "source": [
    "#### **EDA**"
   ]
  },
  {
   "cell_type": "markdown",
   "metadata": {},
   "source": [
    "Description of data\n",
    "\n",
    "Y = target attribute (Y) with values indicating 0 (unhappy) and 1 (happy) customers\\\n",
    "X1 = my order was delivered on time\\\n",
    "X2 = contents of my order was as I expected\\\n",
    "X3 = I ordered everything I wanted to order\\\n",
    "X4 = I paid a good price for my order\\\n",
    "X5 = I am satisfied with my courier\\\n",
    "X6 = the app makes ordering easy for me\n",
    "\n",
    "Attributes X1 to X6 indicate the responses for each question and have values from 1 to 5 where the smaller number indicates less and the higher number indicates more towards the answer.\n",
    "\n",
    "Thus, in this project, we are dealing with a classification problem. Our target variable is Y and our feature variables are X1 to X6.\n"
   ]
  },
  {
   "cell_type": "code",
   "execution_count": 5,
   "metadata": {},
   "outputs": [
    {
     "data": {
      "text/html": [
       "<div>\n",
       "<style scoped>\n",
       "    .dataframe tbody tr th:only-of-type {\n",
       "        vertical-align: middle;\n",
       "    }\n",
       "\n",
       "    .dataframe tbody tr th {\n",
       "        vertical-align: top;\n",
       "    }\n",
       "\n",
       "    .dataframe thead th {\n",
       "        text-align: right;\n",
       "    }\n",
       "</style>\n",
       "<table border=\"1\" class=\"dataframe\">\n",
       "  <thead>\n",
       "    <tr style=\"text-align: right;\">\n",
       "      <th></th>\n",
       "      <th>Y</th>\n",
       "      <th>X1</th>\n",
       "      <th>X2</th>\n",
       "      <th>X3</th>\n",
       "      <th>X4</th>\n",
       "      <th>X5</th>\n",
       "      <th>X6</th>\n",
       "    </tr>\n",
       "  </thead>\n",
       "  <tbody>\n",
       "    <tr>\n",
       "      <th>0</th>\n",
       "      <td>0</td>\n",
       "      <td>3</td>\n",
       "      <td>3</td>\n",
       "      <td>3</td>\n",
       "      <td>4</td>\n",
       "      <td>2</td>\n",
       "      <td>4</td>\n",
       "    </tr>\n",
       "    <tr>\n",
       "      <th>1</th>\n",
       "      <td>0</td>\n",
       "      <td>3</td>\n",
       "      <td>2</td>\n",
       "      <td>3</td>\n",
       "      <td>5</td>\n",
       "      <td>4</td>\n",
       "      <td>3</td>\n",
       "    </tr>\n",
       "    <tr>\n",
       "      <th>2</th>\n",
       "      <td>1</td>\n",
       "      <td>5</td>\n",
       "      <td>3</td>\n",
       "      <td>3</td>\n",
       "      <td>3</td>\n",
       "      <td>3</td>\n",
       "      <td>5</td>\n",
       "    </tr>\n",
       "    <tr>\n",
       "      <th>3</th>\n",
       "      <td>0</td>\n",
       "      <td>5</td>\n",
       "      <td>4</td>\n",
       "      <td>3</td>\n",
       "      <td>3</td>\n",
       "      <td>3</td>\n",
       "      <td>5</td>\n",
       "    </tr>\n",
       "    <tr>\n",
       "      <th>4</th>\n",
       "      <td>0</td>\n",
       "      <td>5</td>\n",
       "      <td>4</td>\n",
       "      <td>3</td>\n",
       "      <td>3</td>\n",
       "      <td>3</td>\n",
       "      <td>5</td>\n",
       "    </tr>\n",
       "  </tbody>\n",
       "</table>\n",
       "</div>"
      ],
      "text/plain": [
       "   Y  X1  X2  X3  X4  X5  X6\n",
       "0  0   3   3   3   4   2   4\n",
       "1  0   3   2   3   5   4   3\n",
       "2  1   5   3   3   3   3   5\n",
       "3  0   5   4   3   3   3   5\n",
       "4  0   5   4   3   3   3   5"
      ]
     },
     "execution_count": 5,
     "metadata": {},
     "output_type": "execute_result"
    }
   ],
   "source": [
    "import pandas as pd\n",
    "df = pd.read_csv(\"ACME-HappinessSurvey2020.csv\")\n",
    "df.head()"
   ]
  },
  {
   "cell_type": "code",
   "execution_count": 8,
   "metadata": {},
   "outputs": [
    {
     "name": "stdout",
     "output_type": "stream",
     "text": [
      "<class 'pandas.core.frame.DataFrame'>\n",
      "RangeIndex: 126 entries, 0 to 125\n",
      "Data columns (total 7 columns):\n",
      " #   Column  Non-Null Count  Dtype\n",
      "---  ------  --------------  -----\n",
      " 0   Y       126 non-null    int64\n",
      " 1   X1      126 non-null    int64\n",
      " 2   X2      126 non-null    int64\n",
      " 3   X3      126 non-null    int64\n",
      " 4   X4      126 non-null    int64\n",
      " 5   X5      126 non-null    int64\n",
      " 6   X6      126 non-null    int64\n",
      "dtypes: int64(7)\n",
      "memory usage: 7.0 KB\n"
     ]
    }
   ],
   "source": [
    "df.info()"
   ]
  },
  {
   "cell_type": "markdown",
   "metadata": {},
   "source": [
    "##### Comments\n",
    "\n",
    "Above we see that the dataset consists of 126 data points. Thus, we are working with a relatively small dataset. Fortunately, there appear to be no null values in the dataset."
   ]
  },
  {
   "cell_type": "code",
   "execution_count": 9,
   "metadata": {},
   "outputs": [
    {
     "data": {
      "text/html": [
       "<div>\n",
       "<style scoped>\n",
       "    .dataframe tbody tr th:only-of-type {\n",
       "        vertical-align: middle;\n",
       "    }\n",
       "\n",
       "    .dataframe tbody tr th {\n",
       "        vertical-align: top;\n",
       "    }\n",
       "\n",
       "    .dataframe thead th {\n",
       "        text-align: right;\n",
       "    }\n",
       "</style>\n",
       "<table border=\"1\" class=\"dataframe\">\n",
       "  <thead>\n",
       "    <tr style=\"text-align: right;\">\n",
       "      <th></th>\n",
       "      <th>Y</th>\n",
       "      <th>X1</th>\n",
       "      <th>X2</th>\n",
       "      <th>X3</th>\n",
       "      <th>X4</th>\n",
       "      <th>X5</th>\n",
       "      <th>X6</th>\n",
       "    </tr>\n",
       "  </thead>\n",
       "  <tbody>\n",
       "    <tr>\n",
       "      <th>count</th>\n",
       "      <td>126.000000</td>\n",
       "      <td>126.000000</td>\n",
       "      <td>126.000000</td>\n",
       "      <td>126.000000</td>\n",
       "      <td>126.000000</td>\n",
       "      <td>126.000000</td>\n",
       "      <td>126.000000</td>\n",
       "    </tr>\n",
       "    <tr>\n",
       "      <th>mean</th>\n",
       "      <td>0.547619</td>\n",
       "      <td>4.333333</td>\n",
       "      <td>2.531746</td>\n",
       "      <td>3.309524</td>\n",
       "      <td>3.746032</td>\n",
       "      <td>3.650794</td>\n",
       "      <td>4.253968</td>\n",
       "    </tr>\n",
       "    <tr>\n",
       "      <th>std</th>\n",
       "      <td>0.499714</td>\n",
       "      <td>0.800000</td>\n",
       "      <td>1.114892</td>\n",
       "      <td>1.023440</td>\n",
       "      <td>0.875776</td>\n",
       "      <td>1.147641</td>\n",
       "      <td>0.809311</td>\n",
       "    </tr>\n",
       "    <tr>\n",
       "      <th>min</th>\n",
       "      <td>0.000000</td>\n",
       "      <td>1.000000</td>\n",
       "      <td>1.000000</td>\n",
       "      <td>1.000000</td>\n",
       "      <td>1.000000</td>\n",
       "      <td>1.000000</td>\n",
       "      <td>1.000000</td>\n",
       "    </tr>\n",
       "    <tr>\n",
       "      <th>25%</th>\n",
       "      <td>0.000000</td>\n",
       "      <td>4.000000</td>\n",
       "      <td>2.000000</td>\n",
       "      <td>3.000000</td>\n",
       "      <td>3.000000</td>\n",
       "      <td>3.000000</td>\n",
       "      <td>4.000000</td>\n",
       "    </tr>\n",
       "    <tr>\n",
       "      <th>50%</th>\n",
       "      <td>1.000000</td>\n",
       "      <td>5.000000</td>\n",
       "      <td>3.000000</td>\n",
       "      <td>3.000000</td>\n",
       "      <td>4.000000</td>\n",
       "      <td>4.000000</td>\n",
       "      <td>4.000000</td>\n",
       "    </tr>\n",
       "    <tr>\n",
       "      <th>75%</th>\n",
       "      <td>1.000000</td>\n",
       "      <td>5.000000</td>\n",
       "      <td>3.000000</td>\n",
       "      <td>4.000000</td>\n",
       "      <td>4.000000</td>\n",
       "      <td>4.000000</td>\n",
       "      <td>5.000000</td>\n",
       "    </tr>\n",
       "    <tr>\n",
       "      <th>max</th>\n",
       "      <td>1.000000</td>\n",
       "      <td>5.000000</td>\n",
       "      <td>5.000000</td>\n",
       "      <td>5.000000</td>\n",
       "      <td>5.000000</td>\n",
       "      <td>5.000000</td>\n",
       "      <td>5.000000</td>\n",
       "    </tr>\n",
       "  </tbody>\n",
       "</table>\n",
       "</div>"
      ],
      "text/plain": [
       "                Y          X1          X2          X3          X4          X5  \\\n",
       "count  126.000000  126.000000  126.000000  126.000000  126.000000  126.000000   \n",
       "mean     0.547619    4.333333    2.531746    3.309524    3.746032    3.650794   \n",
       "std      0.499714    0.800000    1.114892    1.023440    0.875776    1.147641   \n",
       "min      0.000000    1.000000    1.000000    1.000000    1.000000    1.000000   \n",
       "25%      0.000000    4.000000    2.000000    3.000000    3.000000    3.000000   \n",
       "50%      1.000000    5.000000    3.000000    3.000000    4.000000    4.000000   \n",
       "75%      1.000000    5.000000    3.000000    4.000000    4.000000    4.000000   \n",
       "max      1.000000    5.000000    5.000000    5.000000    5.000000    5.000000   \n",
       "\n",
       "               X6  \n",
       "count  126.000000  \n",
       "mean     4.253968  \n",
       "std      0.809311  \n",
       "min      1.000000  \n",
       "25%      4.000000  \n",
       "50%      4.000000  \n",
       "75%      5.000000  \n",
       "max      5.000000  "
      ]
     },
     "execution_count": 9,
     "metadata": {},
     "output_type": "execute_result"
    }
   ],
   "source": [
    "df.describe()"
   ]
  },
  {
   "cell_type": "markdown",
   "metadata": {},
   "source": [
    "##### Comments\n",
    "\n",
    "Above we see that the mean of the target variable is approximately 0.548. Thus, it appears that there is a fairly even split between Y = 0 and Y = 1 cases. Therefore, the dataset does not appear to be imbalanced. The distribution of the features (X1-X6) is less clear from the table above. Below, we will plot the distributions."
   ]
  },
  {
   "cell_type": "code",
   "execution_count": 10,
   "metadata": {},
   "outputs": [
    {
     "data": {
      "image/png": "[encoded data removed]",
      "text/plain": [
       "<Figure size 1500x1000 with 7 Axes>"
      ]
     },
     "metadata": {},
     "output_type": "display_data"
    }
   ],
   "source": [
    "import matplotlib.pyplot as plt\n",
    "import seaborn as sns\n",
    "\n",
    "\n",
    "fig, axes = plt.subplots(figsize=(15,10), ncols=1, nrows=7)\n",
    "axes = axes.flatten()\n",
    "\n",
    "for i, ax in enumerate(axes):\n",
    "    sns.histplot(data = df.iloc[:, i], bins=50, ax=ax)\n",
    "    ax.set_title(df.iloc[:,i].name)\n",
    "    ax.set_ylabel(\"\")\n",
    "    ax.set_xlabel(\"\")\n",
    "\n",
    "plt.tight_layout()\n",
    "plt.show()"
   ]
  },
  {
   "cell_type": "markdown",
   "metadata": {},
   "source": [
    "##### Comments\n",
    "\n",
    "The first thing to note is that the scale of all our feature variables is the same (1-5). Above, we can clearly see that the distributions of the X1, X4, X5 and X6 variables are skewed to the right. The distribution of the X2 is slightly skewed to the left. The distribution of the X3 variable is most normally distributed.\n",
    "\n",
    "Furthermore, we can note that there are very few instances of X1 = 1,2 and X6 = 1,2. Below, we calculate the exact number of these instances.\n"
   ]
  },
  {
   "cell_type": "code",
   "execution_count": 11,
   "metadata": {},
   "outputs": [
    {
     "data": {
      "text/plain": [
       "X1\n",
       "5    65\n",
       "4    40\n",
       "3    20\n",
       "1     1\n",
       "Name: count, dtype: int64"
      ]
     },
     "execution_count": 11,
     "metadata": {},
     "output_type": "execute_result"
    }
   ],
   "source": [
    "df[\"X1\"].value_counts()"
   ]
  },
  {
   "cell_type": "code",
   "execution_count": 12,
   "metadata": {},
   "outputs": [
    {
     "data": {
      "text/plain": [
       "X6\n",
       "5    57\n",
       "4    47\n",
       "3    20\n",
       "2     1\n",
       "1     1\n",
       "Name: count, dtype: int64"
      ]
     },
     "execution_count": 12,
     "metadata": {},
     "output_type": "execute_result"
    }
   ],
   "source": [
    "df[\"X6\"].value_counts()"
   ]
  },
  {
   "cell_type": "markdown",
   "metadata": {},
   "source": [
    "##### Correlation Table\n",
    "\n",
    "Below we plot the correlation heatmap. Interestingly, there are no two variables which appear strongly correlated. The hightest correlation coefficient value in the heatmap is only 0.43 (between X1 and X5). Therefore, no clear relationship between any two variables stands out in this heatmap. Looking at the row corresponding to Y, we see that the correlation coefficients between Y and X2, and Y and X4 are particularly close to zero."
   ]
  },
  {
   "cell_type": "code",
   "execution_count": 13,
   "metadata": {},
   "outputs": [
    {
     "data": {
      "image/png": "[encoded data removed]",
      "text/plain": [
       "<Figure size 1400x800 with 2 Axes>"
      ]
     },
     "metadata": {},
     "output_type": "display_data"
    }
   ],
   "source": [
    "sns.set(rc={'figure.figsize': (14, 8)})\n",
    "sns.heatmap(df.corr(), annot = True, fmt = '.2f', linewidths = 2)\n",
    "plt.title(\"Correlation Heatmap\")\n",
    "plt.show()"
   ]
  },
  {
   "cell_type": "markdown",
   "metadata": {},
   "source": [
    "#### **EDA Comments**\n",
    "\n",
    "From the EDA, we have learned a lot about the dataset. One of the most important takeaways is that the startup is performing poorly. The number of dissatisfied and satisfied customers is fairly evenly split. Thus, it is imperative that the startup improves customer satisfaction. To this end, we will design a classification machine learning model which will attempt to model customer satisfaction given values of the feature variables.\n",
    "\n",
    "Below is a table describing the main takeaways from the EDA, with their corresponding consequences for our models.\n",
    "\n",
    "| Issue    | Consequences for Model |\n",
    "|----------|----------|\n",
    "| Fairly even split between Y = 0 and Y = 1 cases | As dataset is balanced, there is no need to perform upsampling. Furthermore, recall for unhappy customers should be used as model score to optimize, as it is imperative that we classify unhappy customers correctly, to understand what is driving their discontent.  |\n",
    "| Feature variables are all on same scale (1-5) | No need to perform feature engineering on feature scale |\n",
    "| Few instances of X1 = 1,2 and X6 = 1,2 | Consider removing these datapoints, as they could cause issues down the line | \n",
    "| Correlation coefficients between Y and X2, and Y and X4 are close to zero | Consider removing features X2 and/or X4, to make feature space smaller | "
   ]
  },
  {
   "cell_type": "markdown",
   "metadata": {},
   "source": [
    "#### **Data Clean Up and Feature Engineering**"
   ]
  },
  {
   "cell_type": "markdown",
   "metadata": {},
   "source": [
    "In our EDA, we saw that the dataset was fairly straightforward and required little clean up or feature engineering. The only potential feature engineering step that could be included in our model pipelines is to remove the feature variables X2 and/or X4. Below, we will try three cases: with X2 and X4, without X2, and without X2 and X4. "
   ]
  },
  {
   "cell_type": "code",
   "execution_count": null,
   "metadata": {},
   "outputs": [],
   "source": [
    "'''\n",
    "X = df.drop('Y', axis = 1)\n",
    "Y = df[\"Y\"].copy()\n",
    "\n",
    "X_train, X_test, y_train, y_test = train_test_split(X, Y, test_size=0.2, stratify = Y, random_state=seed)\n",
    "\n",
    "X_train_ = X_train.drop('X2', axis = 1)\n",
    "X_test_ = X_test.drop('X2', axis = 1)\n",
    "\n",
    "X_train_red = X_train_.drop('X4', axis = 1)\n",
    "X_test_red = X_test_.drop('X4', axis = 1)\n",
    "'''\n",
    "\n"
   ]
  },
  {
   "cell_type": "markdown",
   "metadata": {},
   "source": [
    "Classification models can exhibit high degrees of sensitivity to training and test datasets, when working with small datasets. As our dataset is small, it is adviseable to save the test and training datasets, so that the same sets are used each time for every model."
   ]
  },
  {
   "cell_type": "code",
   "execution_count": 36,
   "metadata": {},
   "outputs": [],
   "source": [
    "'''\n",
    "y_train = pd.DataFrame(y_train)\n",
    "y_test = pd.DataFrame(y_test)\n",
    "\n",
    "\n",
    "X_train.to_csv(\"X_train.csv\", index=False)\n",
    "X_test.to_csv(\"X_test.csv\", index=False)\n",
    "y_train.to_csv(\"y_train.csv\", index=False, header=True)\n",
    "y_test.to_csv(\"y_test.csv\", index=False, header=True)\n",
    "\n",
    "X_train_.to_csv(\"X_train_.csv\", index=False)\n",
    "X_test_.to_csv(\"X_test_.csv\", index=False)\n",
    "\n",
    "X_train_red.to_csv(\"X_train_red.csv\", index=False)\n",
    "X_test_red.to_csv(\"X_test_red.csv\", index=False)\n",
    "\n",
    "'''\n"
   ]
  },
  {
   "cell_type": "markdown",
   "metadata": {},
   "source": [
    "Reading datasets"
   ]
  },
  {
   "cell_type": "code",
   "execution_count": 8,
   "metadata": {},
   "outputs": [],
   "source": [
    "import pandas as pd\n",
    "\n",
    "X_train = pd.read_csv(\"X_train.csv\")\n",
    "X_test = pd.read_csv(\"X_test.csv\")\n",
    "\n",
    "y_train = pd.read_csv(\"y_train.csv\").squeeze(\"columns\")  # Use `squeeze=True` to load as Series\n",
    "y_test = pd.read_csv(\"y_test.csv\").squeeze(\"columns\")\n",
    "\n",
    "X_train_ = pd.read_csv(\"X_train_.csv\")\n",
    "X_test_ = pd.read_csv(\"X_test_.csv\")\n",
    "\n",
    "X_train_red = pd.read_csv(\"X_train_red.csv\")\n",
    "X_test_red = pd.read_csv(\"X_test_red.csv\")\n",
    "\n"
   ]
  },
  {
   "cell_type": "markdown",
   "metadata": {},
   "source": [
    "#### Lazy Predict\n",
    "\n",
    "To gain some idea as to which classification models will likely perform better for our dataset, we will use Lazy Predict. "
   ]
  },
  {
   "cell_type": "markdown",
   "metadata": {},
   "source": [
    "##### Full dataset"
   ]
  },
  {
   "cell_type": "code",
   "execution_count": 48,
   "metadata": {},
   "outputs": [
    {
     "name": "stderr",
     "output_type": "stream",
     "text": [
      "  0%|          | 0/32 [00:00<?, ?it/s]"
     ]
    },
    {
     "name": "stderr",
     "output_type": "stream",
     "text": [
      "100%|██████████| 32/32 [00:02<00:00, 12.65it/s]"
     ]
    },
    {
     "name": "stdout",
     "output_type": "stream",
     "text": [
      "[LightGBM] [Info] Number of positive: 55, number of negative: 45\n",
      "[LightGBM] [Info] Auto-choosing row-wise multi-threading, the overhead of testing was 0.000166 seconds.\n",
      "You can set `force_row_wise=true` to remove the overhead.\n",
      "And if memory is not enough, you can set `force_col_wise=true`.\n",
      "[LightGBM] [Info] Total Bins 31\n",
      "[LightGBM] [Info] Number of data points in the train set: 100, number of used features: 6\n",
      "[LightGBM] [Info] [binary:BoostFromScore]: pavg=0.550000 -> initscore=0.200671\n",
      "[LightGBM] [Info] Start training from score 0.200671\n",
      "[LightGBM] [Warning] No further splits with positive gain, best gain: -inf\n",
      "[LightGBM] [Warning] No further splits with positive gain, best gain: -inf\n",
      "[LightGBM] [Warning] No further splits with positive gain, best gain: -inf\n",
      "[LightGBM] [Warning] No further splits with positive gain, best gain: -inf\n",
      "[LightGBM] [Warning] No further splits with positive gain, best gain: -inf\n",
      "[LightGBM] [Warning] No further splits with positive gain, best gain: -inf\n",
      "[LightGBM] [Warning] No further splits with positive gain, best gain: -inf\n",
      "[LightGBM] [Warning] No further splits with positive gain, best gain: -inf\n",
      "[LightGBM] [Warning] No further splits with positive gain, best gain: -inf\n",
      "[LightGBM] [Warning] No further splits with positive gain, best gain: -inf\n",
      "[LightGBM] [Warning] No further splits with positive gain, best gain: -inf\n",
      "[LightGBM] [Warning] No further splits with positive gain, best gain: -inf\n",
      "[LightGBM] [Warning] No further splits with positive gain, best gain: -inf\n",
      "[LightGBM] [Warning] No further splits with positive gain, best gain: -inf\n",
      "[LightGBM] [Warning] No further splits with positive gain, best gain: -inf\n",
      "[LightGBM] [Warning] No further splits with positive gain, best gain: -inf\n",
      "[LightGBM] [Warning] No further splits with positive gain, best gain: -inf\n",
      "[LightGBM] [Warning] No further splits with positive gain, best gain: -inf\n",
      "[LightGBM] [Warning] No further splits with positive gain, best gain: -inf\n",
      "[LightGBM] [Warning] No further splits with positive gain, best gain: -inf\n",
      "[LightGBM] [Warning] No further splits with positive gain, best gain: -inf\n",
      "[LightGBM] [Warning] No further splits with positive gain, best gain: -inf\n",
      "[LightGBM] [Warning] No further splits with positive gain, best gain: -inf\n",
      "[LightGBM] [Warning] No further splits with positive gain, best gain: -inf\n",
      "[LightGBM] [Warning] No further splits with positive gain, best gain: -inf\n",
      "[LightGBM] [Warning] No further splits with positive gain, best gain: -inf\n",
      "[LightGBM] [Warning] No further splits with positive gain, best gain: -inf\n",
      "[LightGBM] [Warning] No further splits with positive gain, best gain: -inf\n",
      "[LightGBM] [Warning] No further splits with positive gain, best gain: -inf\n",
      "[LightGBM] [Warning] No further splits with positive gain, best gain: -inf\n",
      "[LightGBM] [Warning] No further splits with positive gain, best gain: -inf\n",
      "[LightGBM] [Warning] No further splits with positive gain, best gain: -inf\n",
      "[LightGBM] [Warning] No further splits with positive gain, best gain: -inf\n",
      "[LightGBM] [Warning] No further splits with positive gain, best gain: -inf\n",
      "[LightGBM] [Warning] No further splits with positive gain, best gain: -inf\n",
      "[LightGBM] [Warning] No further splits with positive gain, best gain: -inf\n",
      "[LightGBM] [Warning] No further splits with positive gain, best gain: -inf\n",
      "[LightGBM] [Warning] No further splits with positive gain, best gain: -inf\n",
      "[LightGBM] [Warning] No further splits with positive gain, best gain: -inf\n",
      "[LightGBM] [Warning] No further splits with positive gain, best gain: -inf\n",
      "[LightGBM] [Warning] No further splits with positive gain, best gain: -inf\n",
      "[LightGBM] [Warning] No further splits with positive gain, best gain: -inf\n",
      "[LightGBM] [Warning] No further splits with positive gain, best gain: -inf\n",
      "[LightGBM] [Warning] No further splits with positive gain, best gain: -inf\n",
      "[LightGBM] [Warning] No further splits with positive gain, best gain: -inf\n",
      "[LightGBM] [Warning] No further splits with positive gain, best gain: -inf\n",
      "[LightGBM] [Warning] No further splits with positive gain, best gain: -inf\n",
      "[LightGBM] [Warning] No further splits with positive gain, best gain: -inf\n",
      "[LightGBM] [Warning] No further splits with positive gain, best gain: -inf\n",
      "[LightGBM] [Warning] No further splits with positive gain, best gain: -inf\n",
      "[LightGBM] [Warning] No further splits with positive gain, best gain: -inf\n",
      "[LightGBM] [Warning] No further splits with positive gain, best gain: -inf\n",
      "[LightGBM] [Warning] No further splits with positive gain, best gain: -inf\n",
      "[LightGBM] [Warning] No further splits with positive gain, best gain: -inf\n",
      "[LightGBM] [Warning] No further splits with positive gain, best gain: -inf\n",
      "[LightGBM] [Warning] No further splits with positive gain, best gain: -inf\n",
      "[LightGBM] [Warning] No further splits with positive gain, best gain: -inf\n",
      "[LightGBM] [Warning] No further splits with positive gain, best gain: -inf\n",
      "[LightGBM] [Warning] No further splits with positive gain, best gain: -inf\n",
      "[LightGBM] [Warning] No further splits with positive gain, best gain: -inf\n",
      "[LightGBM] [Warning] No further splits with positive gain, best gain: -inf\n",
      "[LightGBM] [Warning] No further splits with positive gain, best gain: -inf\n",
      "[LightGBM] [Warning] No further splits with positive gain, best gain: -inf\n",
      "[LightGBM] [Warning] No further splits with positive gain, best gain: -inf\n",
      "[LightGBM] [Warning] No further splits with positive gain, best gain: -inf\n",
      "[LightGBM] [Warning] No further splits with positive gain, best gain: -inf\n",
      "[LightGBM] [Warning] No further splits with positive gain, best gain: -inf\n",
      "[LightGBM] [Warning] No further splits with positive gain, best gain: -inf\n",
      "[LightGBM] [Warning] No further splits with positive gain, best gain: -inf\n",
      "[LightGBM] [Warning] No further splits with positive gain, best gain: -inf\n",
      "[LightGBM] [Warning] No further splits with positive gain, best gain: -inf\n",
      "[LightGBM] [Warning] No further splits with positive gain, best gain: -inf\n",
      "[LightGBM] [Warning] No further splits with positive gain, best gain: -inf\n",
      "[LightGBM] [Warning] No further splits with positive gain, best gain: -inf\n",
      "[LightGBM] [Warning] No further splits with positive gain, best gain: -inf\n",
      "[LightGBM] [Warning] No further splits with positive gain, best gain: -inf\n",
      "[LightGBM] [Warning] No further splits with positive gain, best gain: -inf\n",
      "[LightGBM] [Warning] No further splits with positive gain, best gain: -inf\n",
      "[LightGBM] [Warning] No further splits with positive gain, best gain: -inf\n",
      "[LightGBM] [Warning] No further splits with positive gain, best gain: -inf\n",
      "[LightGBM] [Warning] No further splits with positive gain, best gain: -inf\n",
      "[LightGBM] [Warning] No further splits with positive gain, best gain: -inf\n",
      "[LightGBM] [Warning] No further splits with positive gain, best gain: -inf\n",
      "[LightGBM] [Warning] No further splits with positive gain, best gain: -inf\n",
      "[LightGBM] [Warning] No further splits with positive gain, best gain: -inf\n",
      "[LightGBM] [Warning] No further splits with positive gain, best gain: -inf\n",
      "[LightGBM] [Warning] No further splits with positive gain, best gain: -inf\n",
      "[LightGBM] [Warning] No further splits with positive gain, best gain: -inf\n",
      "[LightGBM] [Warning] No further splits with positive gain, best gain: -inf\n",
      "[LightGBM] [Warning] No further splits with positive gain, best gain: -inf\n",
      "[LightGBM] [Warning] No further splits with positive gain, best gain: -inf\n",
      "[LightGBM] [Warning] No further splits with positive gain, best gain: -inf\n",
      "[LightGBM] [Warning] No further splits with positive gain, best gain: -inf\n",
      "[LightGBM] [Warning] No further splits with positive gain, best gain: -inf\n",
      "[LightGBM] [Warning] No further splits with positive gain, best gain: -inf\n",
      "[LightGBM] [Warning] No further splits with positive gain, best gain: -inf\n",
      "[LightGBM] [Warning] No further splits with positive gain, best gain: -inf\n",
      "[LightGBM] [Warning] No further splits with positive gain, best gain: -inf\n",
      "[LightGBM] [Warning] No further splits with positive gain, best gain: -inf\n",
      "[LightGBM] [Warning] No further splits with positive gain, best gain: -inf\n",
      "                               Accuracy  Balanced Accuracy  ROC AUC  F1 Score  \\\n",
      "Model                                                                           \n",
      "AdaBoostClassifier                 0.69               0.69     0.69      0.69   \n",
      "BernoulliNB                        0.65               0.65     0.65      0.65   \n",
      "ExtraTreesClassifier               0.65               0.65     0.65      0.65   \n",
      "NearestCentroid                    0.62               0.62     0.62      0.62   \n",
      "RidgeClassifier                    0.62               0.62     0.62      0.62   \n",
      "RidgeClassifierCV                  0.62               0.62     0.62      0.62   \n",
      "LogisticRegression                 0.62               0.62     0.62      0.62   \n",
      "LinearSVC                          0.62               0.62     0.62      0.62   \n",
      "LinearDiscriminantAnalysis         0.62               0.62     0.62      0.62   \n",
      "ExtraTreeClassifier                0.62               0.61     0.61      0.61   \n",
      "RandomForestClassifier             0.62               0.61     0.61      0.61   \n",
      "BaggingClassifier                  0.58               0.58     0.58      0.58   \n",
      "DecisionTreeClassifier             0.58               0.57     0.57      0.58   \n",
      "GaussianNB                         0.58               0.57     0.57      0.57   \n",
      "CalibratedClassifierCV             0.58               0.54     0.54      0.46   \n",
      "LabelSpreading                     0.54               0.54     0.54      0.54   \n",
      "LabelPropagation                   0.54               0.53     0.53      0.53   \n",
      "Perceptron                         0.54               0.52     0.52      0.50   \n",
      "SGDClassifier                      0.50               0.50     0.50      0.50   \n",
      "DummyClassifier                    0.54               0.50     0.50      0.38   \n",
      "PassiveAggressiveClassifier        0.54               0.50     0.50      0.38   \n",
      "KNeighborsClassifier               0.50               0.49     0.49      0.49   \n",
      "LGBMClassifier                     0.46               0.47     0.47      0.46   \n",
      "QuadraticDiscriminantAnalysis      0.46               0.46     0.46      0.46   \n",
      "SVC                                0.46               0.46     0.46      0.46   \n",
      "NuSVC                              0.46               0.45     0.45      0.46   \n",
      "\n",
      "                               specificity_score  Time Taken  \n",
      "Model                                                         \n",
      "AdaBoostClassifier                          0.67        0.52  \n",
      "BernoulliNB                                 0.67        0.05  \n",
      "ExtraTreesClassifier                        0.58        0.31  \n",
      "NearestCentroid                             0.67        0.04  \n",
      "RidgeClassifier                             0.67        0.03  \n",
      "RidgeClassifierCV                           0.67        0.03  \n",
      "LogisticRegression                          0.67        0.04  \n",
      "LinearSVC                                   0.67        0.03  \n",
      "LinearDiscriminantAnalysis                  0.67        0.03  \n",
      "ExtraTreeClassifier                         0.50        0.04  \n",
      "RandomForestClassifier                      0.50        0.29  \n",
      "BaggingClassifier                           0.58        0.12  \n",
      "DecisionTreeClassifier                      0.50        0.06  \n",
      "GaussianNB                                  0.42        0.03  \n",
      "CalibratedClassifierCV                      0.08        0.16  \n",
      "LabelSpreading                              0.50        0.04  \n",
      "LabelPropagation                            0.42        0.03  \n",
      "Perceptron                                  0.25        0.03  \n",
      "SGDClassifier                               0.50        0.03  \n",
      "DummyClassifier                             0.00        0.03  \n",
      "PassiveAggressiveClassifier                 0.00        0.04  \n",
      "KNeighborsClassifier                        0.33        0.04  \n",
      "LGBMClassifier                              0.58        0.10  \n",
      "QuadraticDiscriminantAnalysis               0.50        0.03  \n",
      "SVC                                         0.42        0.03  \n",
      "NuSVC                                       0.33        0.03  \n"
     ]
    },
    {
     "name": "stderr",
     "output_type": "stream",
     "text": [
      "\n"
     ]
    }
   ],
   "source": [
    "\n",
    "\n",
    "# Define specificity function\n",
    "def specificity_score(y_true, y_pred):\n",
    "    tn, fp, fn, tp = confusion_matrix(y_true, y_pred).ravel()\n",
    "    return tn / (tn + fp) if (tn + fp) > 0 else 0\n",
    "\n",
    "# Initialize LazyClassifier with the custom specificity function\n",
    "clf = LazyClassifier(verbose=0, ignore_warnings=True, custom_metric=specificity_score)\n",
    "\n",
    "# Fit models and get results\n",
    "models, predictions = clf.fit(X_train, X_test, y_train, y_test)\n",
    "\n",
    "# Display results\n",
    "print(models)\n",
    "\n"
   ]
  },
  {
   "cell_type": "markdown",
   "metadata": {},
   "source": [
    "##### Dataset without X2 feature"
   ]
  },
  {
   "cell_type": "code",
   "execution_count": 49,
   "metadata": {},
   "outputs": [
    {
     "name": "stderr",
     "output_type": "stream",
     "text": [
      "  0%|          | 0/32 [00:00<?, ?it/s]"
     ]
    },
    {
     "name": "stderr",
     "output_type": "stream",
     "text": [
      "100%|██████████| 32/32 [00:02<00:00, 11.92it/s]"
     ]
    },
    {
     "name": "stdout",
     "output_type": "stream",
     "text": [
      "[LightGBM] [Info] Number of positive: 55, number of negative: 45\n",
      "[LightGBM] [Info] Auto-choosing col-wise multi-threading, the overhead of testing was 0.000259 seconds.\n",
      "You can set `force_col_wise=true` to remove the overhead.\n",
      "[LightGBM] [Info] Total Bins 25\n",
      "[LightGBM] [Info] Number of data points in the train set: 100, number of used features: 5\n",
      "[LightGBM] [Info] [binary:BoostFromScore]: pavg=0.550000 -> initscore=0.200671\n",
      "[LightGBM] [Info] Start training from score 0.200671\n",
      "[LightGBM] [Warning] No further splits with positive gain, best gain: -inf\n",
      "[LightGBM] [Warning] No further splits with positive gain, best gain: -inf\n",
      "[LightGBM] [Warning] No further splits with positive gain, best gain: -inf\n",
      "[LightGBM] [Warning] No further splits with positive gain, best gain: -inf\n",
      "[LightGBM] [Warning] No further splits with positive gain, best gain: -inf\n",
      "[LightGBM] [Warning] No further splits with positive gain, best gain: -inf\n",
      "[LightGBM] [Warning] No further splits with positive gain, best gain: -inf\n",
      "[LightGBM] [Warning] No further splits with positive gain, best gain: -inf\n",
      "[LightGBM] [Warning] No further splits with positive gain, best gain: -inf\n",
      "[LightGBM] [Warning] No further splits with positive gain, best gain: -inf\n",
      "[LightGBM] [Warning] No further splits with positive gain, best gain: -inf\n",
      "[LightGBM] [Warning] No further splits with positive gain, best gain: -inf\n",
      "[LightGBM] [Warning] No further splits with positive gain, best gain: -inf\n",
      "[LightGBM] [Warning] No further splits with positive gain, best gain: -inf\n",
      "[LightGBM] [Warning] No further splits with positive gain, best gain: -inf\n",
      "[LightGBM] [Warning] No further splits with positive gain, best gain: -inf\n",
      "[LightGBM] [Warning] No further splits with positive gain, best gain: -inf\n",
      "[LightGBM] [Warning] No further splits with positive gain, best gain: -inf\n",
      "[LightGBM] [Warning] No further splits with positive gain, best gain: -inf\n",
      "[LightGBM] [Warning] No further splits with positive gain, best gain: -inf\n",
      "[LightGBM] [Warning] No further splits with positive gain, best gain: -inf\n",
      "[LightGBM] [Warning] No further splits with positive gain, best gain: -inf\n",
      "[LightGBM] [Warning] No further splits with positive gain, best gain: -inf\n",
      "[LightGBM] [Warning] No further splits with positive gain, best gain: -inf\n",
      "[LightGBM] [Warning] No further splits with positive gain, best gain: -inf\n",
      "[LightGBM] [Warning] No further splits with positive gain, best gain: -inf\n",
      "[LightGBM] [Warning] No further splits with positive gain, best gain: -inf\n",
      "[LightGBM] [Warning] No further splits with positive gain, best gain: -inf\n",
      "[LightGBM] [Warning] No further splits with positive gain, best gain: -inf\n",
      "[LightGBM] [Warning] No further splits with positive gain, best gain: -inf\n",
      "[LightGBM] [Warning] No further splits with positive gain, best gain: -inf\n",
      "[LightGBM] [Warning] No further splits with positive gain, best gain: -inf\n",
      "[LightGBM] [Warning] No further splits with positive gain, best gain: -inf\n",
      "[LightGBM] [Warning] No further splits with positive gain, best gain: -inf\n",
      "[LightGBM] [Warning] No further splits with positive gain, best gain: -inf\n",
      "[LightGBM] [Warning] No further splits with positive gain, best gain: -inf\n",
      "[LightGBM] [Warning] No further splits with positive gain, best gain: -inf\n",
      "[LightGBM] [Warning] No further splits with positive gain, best gain: -inf\n",
      "[LightGBM] [Warning] No further splits with positive gain, best gain: -inf\n",
      "[LightGBM] [Warning] No further splits with positive gain, best gain: -inf\n",
      "[LightGBM] [Warning] No further splits with positive gain, best gain: -inf\n",
      "[LightGBM] [Warning] No further splits with positive gain, best gain: -inf\n",
      "[LightGBM] [Warning] No further splits with positive gain, best gain: -inf\n",
      "[LightGBM] [Warning] No further splits with positive gain, best gain: -inf\n",
      "[LightGBM] [Warning] No further splits with positive gain, best gain: -inf\n",
      "[LightGBM] [Warning] No further splits with positive gain, best gain: -inf\n",
      "[LightGBM] [Warning] No further splits with positive gain, best gain: -inf\n",
      "[LightGBM] [Warning] No further splits with positive gain, best gain: -inf\n",
      "[LightGBM] [Warning] No further splits with positive gain, best gain: -inf\n",
      "[LightGBM] [Warning] No further splits with positive gain, best gain: -inf\n",
      "[LightGBM] [Warning] No further splits with positive gain, best gain: -inf\n",
      "[LightGBM] [Warning] No further splits with positive gain, best gain: -inf\n",
      "[LightGBM] [Warning] No further splits with positive gain, best gain: -inf\n",
      "[LightGBM] [Warning] No further splits with positive gain, best gain: -inf\n",
      "[LightGBM] [Warning] No further splits with positive gain, best gain: -inf\n",
      "[LightGBM] [Warning] No further splits with positive gain, best gain: -inf\n",
      "[LightGBM] [Warning] No further splits with positive gain, best gain: -inf\n",
      "[LightGBM] [Warning] No further splits with positive gain, best gain: -inf\n",
      "[LightGBM] [Warning] No further splits with positive gain, best gain: -inf\n",
      "[LightGBM] [Warning] No further splits with positive gain, best gain: -inf\n",
      "[LightGBM] [Warning] No further splits with positive gain, best gain: -inf\n",
      "[LightGBM] [Warning] No further splits with positive gain, best gain: -inf\n",
      "[LightGBM] [Warning] No further splits with positive gain, best gain: -inf\n",
      "[LightGBM] [Warning] No further splits with positive gain, best gain: -inf\n",
      "[LightGBM] [Warning] No further splits with positive gain, best gain: -inf\n",
      "[LightGBM] [Warning] No further splits with positive gain, best gain: -inf\n",
      "[LightGBM] [Warning] No further splits with positive gain, best gain: -inf\n",
      "[LightGBM] [Warning] No further splits with positive gain, best gain: -inf\n",
      "[LightGBM] [Warning] No further splits with positive gain, best gain: -inf\n",
      "[LightGBM] [Warning] No further splits with positive gain, best gain: -inf\n",
      "[LightGBM] [Warning] No further splits with positive gain, best gain: -inf\n",
      "[LightGBM] [Warning] No further splits with positive gain, best gain: -inf\n",
      "[LightGBM] [Warning] No further splits with positive gain, best gain: -inf\n",
      "[LightGBM] [Warning] No further splits with positive gain, best gain: -inf\n",
      "[LightGBM] [Warning] No further splits with positive gain, best gain: -inf\n",
      "[LightGBM] [Warning] No further splits with positive gain, best gain: -inf\n",
      "[LightGBM] [Warning] No further splits with positive gain, best gain: -inf\n",
      "[LightGBM] [Warning] No further splits with positive gain, best gain: -inf\n",
      "[LightGBM] [Warning] No further splits with positive gain, best gain: -inf\n",
      "[LightGBM] [Warning] No further splits with positive gain, best gain: -inf\n",
      "[LightGBM] [Warning] No further splits with positive gain, best gain: -inf\n",
      "[LightGBM] [Warning] No further splits with positive gain, best gain: -inf\n",
      "[LightGBM] [Warning] No further splits with positive gain, best gain: -inf\n",
      "[LightGBM] [Warning] No further splits with positive gain, best gain: -inf\n",
      "[LightGBM] [Warning] No further splits with positive gain, best gain: -inf\n",
      "[LightGBM] [Warning] No further splits with positive gain, best gain: -inf\n",
      "[LightGBM] [Warning] No further splits with positive gain, best gain: -inf\n",
      "[LightGBM] [Warning] No further splits with positive gain, best gain: -inf\n",
      "[LightGBM] [Warning] No further splits with positive gain, best gain: -inf\n",
      "[LightGBM] [Warning] No further splits with positive gain, best gain: -inf\n",
      "[LightGBM] [Warning] No further splits with positive gain, best gain: -inf\n",
      "[LightGBM] [Warning] No further splits with positive gain, best gain: -inf\n",
      "[LightGBM] [Warning] No further splits with positive gain, best gain: -inf\n",
      "[LightGBM] [Warning] No further splits with positive gain, best gain: -inf\n",
      "[LightGBM] [Warning] No further splits with positive gain, best gain: -inf\n",
      "[LightGBM] [Warning] No further splits with positive gain, best gain: -inf\n",
      "[LightGBM] [Warning] No further splits with positive gain, best gain: -inf\n",
      "[LightGBM] [Warning] No further splits with positive gain, best gain: -inf\n",
      "[LightGBM] [Warning] No further splits with positive gain, best gain: -inf\n",
      "[LightGBM] [Warning] No further splits with positive gain, best gain: -inf\n",
      "                               Accuracy  Balanced Accuracy  ROC AUC  F1 Score  \\\n",
      "Model                                                                           \n",
      "AdaBoostClassifier                 0.69               0.69     0.69      0.69   \n",
      "KNeighborsClassifier               0.69               0.69     0.69      0.69   \n",
      "ExtraTreesClassifier               0.65               0.66     0.66      0.65   \n",
      "BernoulliNB                        0.65               0.65     0.65      0.65   \n",
      "RandomForestClassifier             0.65               0.65     0.65      0.65   \n",
      "DecisionTreeClassifier             0.62               0.62     0.62      0.61   \n",
      "NearestCentroid                    0.62               0.62     0.62      0.62   \n",
      "BaggingClassifier                  0.62               0.62     0.62      0.62   \n",
      "GaussianNB                         0.62               0.60     0.60      0.60   \n",
      "SGDClassifier                      0.62               0.60     0.60      0.60   \n",
      "NuSVC                              0.58               0.58     0.58      0.58   \n",
      "LabelPropagation                   0.58               0.58     0.58      0.58   \n",
      "ExtraTreeClassifier                0.58               0.57     0.57      0.58   \n",
      "RidgeClassifier                    0.58               0.57     0.57      0.58   \n",
      "RidgeClassifierCV                  0.58               0.57     0.57      0.58   \n",
      "LinearSVC                          0.58               0.57     0.57      0.58   \n",
      "LogisticRegression                 0.58               0.57     0.57      0.58   \n",
      "LinearDiscriminantAnalysis         0.58               0.57     0.57      0.58   \n",
      "Perceptron                         0.58               0.56     0.56      0.55   \n",
      "LabelSpreading                     0.54               0.54     0.54      0.54   \n",
      "CalibratedClassifierCV             0.58               0.54     0.54      0.46   \n",
      "LGBMClassifier                     0.50               0.51     0.51      0.49   \n",
      "QuadraticDiscriminantAnalysis      0.50               0.51     0.51      0.50   \n",
      "DummyClassifier                    0.54               0.50     0.50      0.38   \n",
      "PassiveAggressiveClassifier        0.54               0.50     0.50      0.38   \n",
      "SVC                                0.46               0.46     0.46      0.46   \n",
      "\n",
      "                               specificity_score  Time Taken  \n",
      "Model                                                         \n",
      "AdaBoostClassifier                          0.67        0.34  \n",
      "KNeighborsClassifier                        0.67        0.05  \n",
      "ExtraTreesClassifier                        0.75        0.32  \n",
      "BernoulliNB                                 0.67        0.03  \n",
      "RandomForestClassifier                      0.67        0.39  \n",
      "DecisionTreeClassifier                      0.75        0.04  \n",
      "NearestCentroid                             0.67        0.05  \n",
      "BaggingClassifier                           0.67        0.11  \n",
      "GaussianNB                                  0.42        0.05  \n",
      "SGDClassifier                               0.42        0.03  \n",
      "NuSVC                                       0.67        0.05  \n",
      "LabelPropagation                            0.67        0.06  \n",
      "ExtraTreeClassifier                         0.50        0.03  \n",
      "RidgeClassifier                             0.50        0.04  \n",
      "RidgeClassifierCV                           0.50        0.04  \n",
      "LinearSVC                                   0.50        0.05  \n",
      "LogisticRegression                          0.50        0.05  \n",
      "LinearDiscriminantAnalysis                  0.50        0.04  \n",
      "Perceptron                                  0.33        0.04  \n",
      "LabelSpreading                              0.58        0.06  \n",
      "CalibratedClassifierCV                      0.08        0.10  \n",
      "LGBMClassifier                              0.67        0.12  \n",
      "QuadraticDiscriminantAnalysis               0.58        0.04  \n",
      "DummyClassifier                             0.00        0.06  \n",
      "PassiveAggressiveClassifier                 0.00        0.04  \n",
      "SVC                                         0.42        0.03  \n"
     ]
    },
    {
     "name": "stderr",
     "output_type": "stream",
     "text": [
      "\n"
     ]
    }
   ],
   "source": [
    "clf = LazyClassifier(verbose=0, ignore_warnings=True, custom_metric=specificity_score)\n",
    "models, predictions = clf.fit(X_train_, X_test_, y_train, y_test)\n",
    "\n",
    "print(models)"
   ]
  },
  {
   "cell_type": "markdown",
   "metadata": {},
   "source": [
    "##### Dataset without X2 and X4 features"
   ]
  },
  {
   "cell_type": "code",
   "execution_count": 50,
   "metadata": {},
   "outputs": [
    {
     "name": "stderr",
     "output_type": "stream",
     "text": [
      "100%|██████████| 32/32 [00:02<00:00, 12.99it/s]"
     ]
    },
    {
     "name": "stdout",
     "output_type": "stream",
     "text": [
      "[LightGBM] [Info] Number of positive: 55, number of negative: 45\n",
      "[LightGBM] [Info] Auto-choosing col-wise multi-threading, the overhead of testing was 0.000140 seconds.\n",
      "You can set `force_col_wise=true` to remove the overhead.\n",
      "[LightGBM] [Info] Total Bins 20\n",
      "[LightGBM] [Info] Number of data points in the train set: 100, number of used features: 4\n",
      "[LightGBM] [Info] [binary:BoostFromScore]: pavg=0.550000 -> initscore=0.200671\n",
      "[LightGBM] [Info] Start training from score 0.200671\n",
      "[LightGBM] [Warning] No further splits with positive gain, best gain: -inf\n",
      "[LightGBM] [Warning] No further splits with positive gain, best gain: -inf\n",
      "[LightGBM] [Warning] No further splits with positive gain, best gain: -inf\n",
      "[LightGBM] [Warning] No further splits with positive gain, best gain: -inf\n",
      "[LightGBM] [Warning] No further splits with positive gain, best gain: -inf\n",
      "[LightGBM] [Warning] No further splits with positive gain, best gain: -inf\n",
      "[LightGBM] [Warning] No further splits with positive gain, best gain: -inf\n",
      "[LightGBM] [Warning] No further splits with positive gain, best gain: -inf\n",
      "[LightGBM] [Warning] No further splits with positive gain, best gain: -inf\n",
      "[LightGBM] [Warning] No further splits with positive gain, best gain: -inf\n",
      "[LightGBM] [Warning] No further splits with positive gain, best gain: -inf\n",
      "[LightGBM] [Warning] No further splits with positive gain, best gain: -inf\n",
      "[LightGBM] [Warning] No further splits with positive gain, best gain: -inf\n",
      "[LightGBM] [Warning] No further splits with positive gain, best gain: -inf\n",
      "[LightGBM] [Warning] No further splits with positive gain, best gain: -inf\n",
      "[LightGBM] [Warning] No further splits with positive gain, best gain: -inf\n",
      "[LightGBM] [Warning] No further splits with positive gain, best gain: -inf\n",
      "[LightGBM] [Warning] No further splits with positive gain, best gain: -inf\n",
      "[LightGBM] [Warning] No further splits with positive gain, best gain: -inf\n",
      "[LightGBM] [Warning] No further splits with positive gain, best gain: -inf\n",
      "[LightGBM] [Warning] No further splits with positive gain, best gain: -inf\n",
      "[LightGBM] [Warning] No further splits with positive gain, best gain: -inf\n",
      "[LightGBM] [Warning] No further splits with positive gain, best gain: -inf\n",
      "[LightGBM] [Warning] No further splits with positive gain, best gain: -inf\n",
      "[LightGBM] [Warning] No further splits with positive gain, best gain: -inf\n",
      "[LightGBM] [Warning] No further splits with positive gain, best gain: -inf\n",
      "[LightGBM] [Warning] No further splits with positive gain, best gain: -inf\n",
      "[LightGBM] [Warning] No further splits with positive gain, best gain: -inf\n",
      "[LightGBM] [Warning] No further splits with positive gain, best gain: -inf\n",
      "[LightGBM] [Warning] No further splits with positive gain, best gain: -inf\n",
      "[LightGBM] [Warning] No further splits with positive gain, best gain: -inf\n",
      "[LightGBM] [Warning] No further splits with positive gain, best gain: -inf\n",
      "[LightGBM] [Warning] No further splits with positive gain, best gain: -inf\n",
      "[LightGBM] [Warning] No further splits with positive gain, best gain: -inf\n",
      "[LightGBM] [Warning] No further splits with positive gain, best gain: -inf\n",
      "[LightGBM] [Warning] No further splits with positive gain, best gain: -inf\n",
      "[LightGBM] [Warning] No further splits with positive gain, best gain: -inf\n",
      "[LightGBM] [Warning] No further splits with positive gain, best gain: -inf\n",
      "[LightGBM] [Warning] No further splits with positive gain, best gain: -inf\n",
      "[LightGBM] [Warning] No further splits with positive gain, best gain: -inf\n",
      "[LightGBM] [Warning] No further splits with positive gain, best gain: -inf\n",
      "[LightGBM] [Warning] No further splits with positive gain, best gain: -inf\n",
      "[LightGBM] [Warning] No further splits with positive gain, best gain: -inf\n",
      "[LightGBM] [Warning] No further splits with positive gain, best gain: -inf\n",
      "[LightGBM] [Warning] No further splits with positive gain, best gain: -inf\n",
      "[LightGBM] [Warning] No further splits with positive gain, best gain: -inf\n",
      "[LightGBM] [Warning] No further splits with positive gain, best gain: -inf\n",
      "[LightGBM] [Warning] No further splits with positive gain, best gain: -inf\n",
      "[LightGBM] [Warning] No further splits with positive gain, best gain: -inf\n",
      "[LightGBM] [Warning] No further splits with positive gain, best gain: -inf\n",
      "[LightGBM] [Warning] No further splits with positive gain, best gain: -inf\n",
      "[LightGBM] [Warning] No further splits with positive gain, best gain: -inf\n",
      "[LightGBM] [Warning] No further splits with positive gain, best gain: -inf\n",
      "[LightGBM] [Warning] No further splits with positive gain, best gain: -inf\n",
      "[LightGBM] [Warning] No further splits with positive gain, best gain: -inf\n",
      "[LightGBM] [Warning] No further splits with positive gain, best gain: -inf\n",
      "[LightGBM] [Warning] No further splits with positive gain, best gain: -inf\n",
      "[LightGBM] [Warning] No further splits with positive gain, best gain: -inf\n",
      "[LightGBM] [Warning] No further splits with positive gain, best gain: -inf\n",
      "[LightGBM] [Warning] No further splits with positive gain, best gain: -inf\n",
      "[LightGBM] [Warning] No further splits with positive gain, best gain: -inf\n",
      "[LightGBM] [Warning] No further splits with positive gain, best gain: -inf\n",
      "[LightGBM] [Warning] No further splits with positive gain, best gain: -inf\n",
      "[LightGBM] [Warning] No further splits with positive gain, best gain: -inf\n",
      "[LightGBM] [Warning] No further splits with positive gain, best gain: -inf\n",
      "[LightGBM] [Warning] No further splits with positive gain, best gain: -inf\n",
      "[LightGBM] [Warning] No further splits with positive gain, best gain: -inf\n",
      "[LightGBM] [Warning] No further splits with positive gain, best gain: -inf\n",
      "[LightGBM] [Warning] No further splits with positive gain, best gain: -inf\n",
      "[LightGBM] [Warning] No further splits with positive gain, best gain: -inf\n",
      "[LightGBM] [Warning] No further splits with positive gain, best gain: -inf\n",
      "[LightGBM] [Warning] No further splits with positive gain, best gain: -inf\n",
      "[LightGBM] [Warning] No further splits with positive gain, best gain: -inf\n",
      "[LightGBM] [Warning] No further splits with positive gain, best gain: -inf\n",
      "[LightGBM] [Warning] No further splits with positive gain, best gain: -inf\n",
      "[LightGBM] [Warning] No further splits with positive gain, best gain: -inf\n",
      "[LightGBM] [Warning] No further splits with positive gain, best gain: -inf\n",
      "[LightGBM] [Warning] No further splits with positive gain, best gain: -inf\n",
      "[LightGBM] [Warning] No further splits with positive gain, best gain: -inf\n",
      "[LightGBM] [Warning] No further splits with positive gain, best gain: -inf\n",
      "[LightGBM] [Warning] No further splits with positive gain, best gain: -inf\n",
      "[LightGBM] [Warning] No further splits with positive gain, best gain: -inf\n",
      "[LightGBM] [Warning] No further splits with positive gain, best gain: -inf\n",
      "[LightGBM] [Warning] No further splits with positive gain, best gain: -inf\n",
      "[LightGBM] [Warning] No further splits with positive gain, best gain: -inf\n",
      "[LightGBM] [Warning] No further splits with positive gain, best gain: -inf\n",
      "[LightGBM] [Warning] No further splits with positive gain, best gain: -inf\n",
      "[LightGBM] [Warning] No further splits with positive gain, best gain: -inf\n",
      "[LightGBM] [Warning] No further splits with positive gain, best gain: -inf\n",
      "[LightGBM] [Warning] No further splits with positive gain, best gain: -inf\n",
      "[LightGBM] [Warning] No further splits with positive gain, best gain: -inf\n",
      "[LightGBM] [Warning] No further splits with positive gain, best gain: -inf\n",
      "[LightGBM] [Warning] No further splits with positive gain, best gain: -inf\n",
      "[LightGBM] [Warning] No further splits with positive gain, best gain: -inf\n",
      "[LightGBM] [Warning] No further splits with positive gain, best gain: -inf\n",
      "[LightGBM] [Warning] No further splits with positive gain, best gain: -inf\n",
      "[LightGBM] [Warning] No further splits with positive gain, best gain: -inf\n",
      "[LightGBM] [Warning] No further splits with positive gain, best gain: -inf\n",
      "[LightGBM] [Warning] No further splits with positive gain, best gain: -inf\n",
      "[LightGBM] [Warning] No further splits with positive gain, best gain: -inf\n",
      "                               Accuracy  Balanced Accuracy  ROC AUC  F1 Score  \\\n",
      "Model                                                                           \n",
      "KNeighborsClassifier               0.73               0.73     0.73      0.73   \n",
      "Perceptron                         0.69               0.71     0.71      0.67   \n",
      "AdaBoostClassifier                 0.69               0.69     0.69      0.69   \n",
      "BernoulliNB                        0.65               0.65     0.65      0.65   \n",
      "RidgeClassifier                    0.65               0.65     0.65      0.65   \n",
      "BaggingClassifier                  0.65               0.65     0.65      0.65   \n",
      "LabelSpreading                     0.65               0.65     0.65      0.65   \n",
      "LinearDiscriminantAnalysis         0.65               0.65     0.65      0.65   \n",
      "LabelPropagation                   0.65               0.65     0.65      0.65   \n",
      "RandomForestClassifier             0.65               0.65     0.65      0.65   \n",
      "GaussianNB                         0.65               0.64     0.64      0.65   \n",
      "NearestCentroid                    0.62               0.62     0.62      0.62   \n",
      "LogisticRegression                 0.62               0.62     0.62      0.62   \n",
      "LinearSVC                          0.62               0.62     0.62      0.62   \n",
      "RidgeClassifierCV                  0.62               0.61     0.61      0.61   \n",
      "NuSVC                              0.62               0.61     0.61      0.61   \n",
      "DecisionTreeClassifier             0.58               0.58     0.58      0.58   \n",
      "ExtraTreesClassifier               0.58               0.58     0.58      0.58   \n",
      "PassiveAggressiveClassifier        0.58               0.58     0.58      0.58   \n",
      "LGBMClassifier                     0.54               0.56     0.56      0.50   \n",
      "CalibratedClassifierCV             0.58               0.55     0.55      0.50   \n",
      "SVC                                0.54               0.54     0.54      0.54   \n",
      "ExtraTreeClassifier                0.54               0.54     0.54      0.54   \n",
      "DummyClassifier                    0.54               0.50     0.50      0.38   \n",
      "QuadraticDiscriminantAnalysis      0.50               0.50     0.50      0.50   \n",
      "SGDClassifier                      0.50               0.49     0.49      0.49   \n",
      "\n",
      "                               specificity_score  Time Taken  \n",
      "Model                                                         \n",
      "KNeighborsClassifier                        0.67        0.04  \n",
      "Perceptron                                  1.00        0.04  \n",
      "AdaBoostClassifier                          0.67        0.38  \n",
      "BernoulliNB                                 0.67        0.08  \n",
      "RidgeClassifier                             0.58        0.04  \n",
      "BaggingClassifier                           0.58        0.12  \n",
      "LabelSpreading                              0.58        0.03  \n",
      "LinearDiscriminantAnalysis                  0.58        0.03  \n",
      "LabelPropagation                            0.58        0.03  \n",
      "RandomForestClassifier                      0.58        0.31  \n",
      "GaussianNB                                  0.50        0.03  \n",
      "NearestCentroid                             0.67        0.03  \n",
      "LogisticRegression                          0.67        0.03  \n",
      "LinearSVC                                   0.67        0.03  \n",
      "RidgeClassifierCV                           0.50        0.03  \n",
      "NuSVC                                       0.50        0.03  \n",
      "DecisionTreeClassifier                      0.58        0.08  \n",
      "ExtraTreesClassifier                        0.58        0.28  \n",
      "PassiveAggressiveClassifier                 0.58        0.04  \n",
      "LGBMClassifier                              0.83        0.10  \n",
      "CalibratedClassifierCV                      0.17        0.15  \n",
      "SVC                                         0.58        0.04  \n",
      "ExtraTreeClassifier                         0.50        0.04  \n",
      "DummyClassifier                             0.00        0.05  \n",
      "QuadraticDiscriminantAnalysis               0.50        0.03  \n",
      "SGDClassifier                               0.33        0.03  \n"
     ]
    },
    {
     "name": "stderr",
     "output_type": "stream",
     "text": [
      "\n"
     ]
    }
   ],
   "source": [
    "clf = LazyClassifier(verbose=0, ignore_warnings=True, custom_metric=specificity_score)\n",
    "models, predictions = clf.fit(X_train_red, X_test_red, y_train, y_test)\n",
    "\n",
    "print(models)"
   ]
  },
  {
   "cell_type": "markdown",
   "metadata": {},
   "source": [
    "##### **Analysis of Lazy Predict Results**\n",
    "\n",
    "Above, we have seen that the optimal model depends on the dataset. Furthermore, we have seen that working with a reduced dataset (without X2 and X4 feature) appears to improve model performance according to the accuracy, roc auc and F1 scores. However, there is a less significant improvement in model performance if we look at the specififity/negative recall score. As stated previously, as the main goal of the project is to identify unhappy customers, the specificity/negative recall score will be the main score we will be working with. Furthermore, it is worth noting that none of the models appear to perform that well according to the predictions of Lazy Predict. Thus, the problem at hand is non-trivial. \n",
    "\n",
    "As working with any of the two reduced datasets above appears to offer minimal improvement in specificity/negative recall scores, it would unwise at the point to work with these reduced datasets. Therefore, we will continue working with the full dataset. However, for each model, we will implement Recursive Feature Elimination in each of our models to see whether a different reduced dataset offers any advantages. Therefore, the Lazy Predict results above may give us some clues as to which models may work better with a reduced dataset.\n",
    "\n",
    "Given the time constraints of the project, it is not possible to investigate all the permutations of the different models and datasets. After consulting the top performing models in the above tables, I note that tree models are common. Thus it makes sense to mostly work with these types of models. We will work with a decision tree model (which can be viewed as our baseline model), bagging classifier, random forest and Adaboost. Furthermore, to not have all our eggs in one basket, we will work with other models that aren't tree models. After consulting the results above, we note that the BernoulliNB and Logistic Regression models score well. Thus, we will also work with these classification models."
   ]
  },
  {
   "cell_type": "markdown",
   "metadata": {},
   "source": [
    "#### **Decision Tree Model**"
   ]
  },
  {
   "cell_type": "markdown",
   "metadata": {},
   "source": [
    "##### Hyperparmater optimization using hyperopt"
   ]
  },
  {
   "cell_type": "code",
   "execution_count": 17,
   "metadata": {},
   "outputs": [
    {
     "name": "stdout",
     "output_type": "stream",
     "text": [
      "  0%|          | 0/500 [00:00<?, ?trial/s, best loss=?]"
     ]
    },
    {
     "name": "stdout",
     "output_type": "stream",
     "text": [
      "100%|██████████| 500/500 [01:15<00:00,  6.65trial/s, best loss: -0.7555555555555555]\n",
      "Best hyperparameters: {'class_weight': 'balanced', 'criterion': 'entropy', 'max_depth': np.int64(3), 'min_samples_leaf': np.int64(2), 'min_samples_split': np.int64(3), 'n_features': np.int64(3), 'random_state': 7980}\n"
     ]
    }
   ],
   "source": [
    "\n",
    "\n",
    "# Define the custom scorer focusing on negative recall\n",
    "negative_recall = make_scorer(recall_score, pos_label=0)\n",
    "\n",
    "# Define the objective function\n",
    "def objective(params):\n",
    "    # the number of features, ensuring it is an integer\n",
    "    n_features = int(params['n_features'])\n",
    "    \n",
    "    # Set up classifier hyperparameters \n",
    "    dt_params = {\n",
    "        'max_depth': int(params['max_depth']),\n",
    "        'min_samples_split': int(params['min_samples_split']),\n",
    "        'min_samples_leaf': int(params['min_samples_leaf']),\n",
    "        'class_weight': params['class_weight'],\n",
    "        'criterion': params['criterion'],\n",
    "        'random_state': int(params['random_state']),\n",
    "    }\n",
    "    classifier = DecisionTreeClassifier(**dt_params)\n",
    "    \n",
    "    # Set up the RFE with the classifier as the estimator\n",
    "    rfe = RFE(estimator=classifier, n_features_to_select=n_features)\n",
    "    \n",
    "    # Create a pipeline that first does feature selection, then classification\n",
    "    pipeline = Pipeline(steps=[('rfe', rfe), ('clf', classifier)])\n",
    "    \n",
    "    # Use cross-validation to evaluate performance using negative recall\n",
    "    score = cross_val_score(pipeline, X_train, y_train, scoring=negative_recall, cv=5).mean()\n",
    "    \n",
    "    # Hyperopt minimizes the objective, so return the negative score (to maximize negative recall)\n",
    "    return {'loss': -score, 'status': STATUS_OK}\n",
    "\n",
    "# Define the hyperparameter search space using hp.choice for discrete parameters\n",
    "search_space = {\n",
    "    'n_features': hp.choice('n_features', list(np.arange(1, 7, 1, dtype=int))),\n",
    "    'max_depth': hp.choice('max_depth', list(np.arange(3, 15, 1, dtype=int))),\n",
    "    'min_samples_split': hp.choice('min_samples_split', list(np.arange(2, 10, 1, dtype=int))),\n",
    "    'min_samples_leaf': hp.choice('min_samples_leaf', list(np.arange(1, 8, 1, dtype=int))),\n",
    "    'class_weight': hp.choice('class_weight', [None, \"balanced\"]),\n",
    "    'criterion': hp.choice('criterion', [\"gini\", \"entropy\"]),\n",
    "    'random_state': hp.choice('random_state', [seed])  # Ensure 'seed' is defined\n",
    "}\n",
    "\n",
    "# Run Hyperopt\n",
    "trials = Trials()\n",
    "best = fmin(\n",
    "    fn=objective,\n",
    "    space=search_space,\n",
    "    algo=tpe.suggest,\n",
    "    max_evals=500,\n",
    "    trials=trials\n",
    ")\n",
    "\n",
    "best_params = space_eval(search_space, best)\n",
    "print(\"Best hyperparameters:\", best_params)\n"
   ]
  },
  {
   "cell_type": "markdown",
   "metadata": {},
   "source": [
    "Optimal hyperparmaters are saved below."
   ]
  },
  {
   "cell_type": "code",
   "execution_count": 23,
   "metadata": {},
   "outputs": [
    {
     "name": "stdout",
     "output_type": "stream",
     "text": [
      "Selected features: Index(['X1', 'X3', 'X6'], dtype='object')\n"
     ]
    }
   ],
   "source": [
    "best_params =  {'class_weight': 'balanced', 'criterion': 'entropy', 'max_depth': np.int64(3), 'min_samples_leaf': np.int64(2), 'min_samples_split': np.int64(3), 'n_features': np.int64(3), 'random_state': seed}\n",
    "n_features = int(best_params['n_features'])\n",
    "del best_params['n_features']\n",
    "\n",
    "classifier = DecisionTreeClassifier(**best_params)\n",
    "    \n",
    "# Set up the RFE with the classifier as the estimator\n",
    "rfe = RFE(estimator=classifier, n_features_to_select=n_features)\n",
    "\n",
    "# Create a pipeline that first does feature selection, then classification\n",
    "dtc_pipeline = Pipeline(steps=[('rfe', rfe), ('clf', classifier)])\n",
    "dtc_pipeline.fit(X_train, y_train)\n",
    "\n",
    "\n",
    "mask = dtc_pipeline.named_steps['rfe'].support_\n",
    "selected_feature_names = X_train.columns[mask]\n",
    "print(\"Selected features:\", selected_feature_names)\n",
    "\n"
   ]
  },
  {
   "cell_type": "markdown",
   "metadata": {},
   "source": [
    "Visualizing tree"
   ]
  },
  {
   "cell_type": "code",
   "execution_count": 24,
   "metadata": {},
   "outputs": [
    {
     "name": "stdout",
     "output_type": "stream",
     "text": [
      "|--- X1 <= 4.50\n",
      "|   |--- X6 <= 3.50\n",
      "|   |   |--- X3 <= 3.50\n",
      "|   |   |   |--- class: 0\n",
      "|   |   |--- X3 >  3.50\n",
      "|   |   |   |--- class: 0\n",
      "|   |--- X6 >  3.50\n",
      "|   |   |--- X3 <= 4.50\n",
      "|   |   |   |--- class: 0\n",
      "|   |   |--- X3 >  4.50\n",
      "|   |   |   |--- class: 0\n",
      "|--- X1 >  4.50\n",
      "|   |--- X3 <= 3.50\n",
      "|   |   |--- X6 <= 4.50\n",
      "|   |   |   |--- class: 1\n",
      "|   |   |--- X6 >  4.50\n",
      "|   |   |   |--- class: 0\n",
      "|   |--- X3 >  3.50\n",
      "|   |   |--- X6 <= 4.50\n",
      "|   |   |   |--- class: 1\n",
      "|   |   |--- X6 >  4.50\n",
      "|   |   |   |--- class: 1\n",
      "\n"
     ]
    }
   ],
   "source": [
    "from sklearn.tree import export_text\n",
    "tree_text = export_text(dtc_pipeline[-1], feature_names=selected_feature_names, max_depth=3)\n",
    "print(tree_text)"
   ]
  },
  {
   "cell_type": "markdown",
   "metadata": {},
   "source": [
    "Confusion matrix for results of model performance on test data"
   ]
  },
  {
   "cell_type": "code",
   "execution_count": 25,
   "metadata": {},
   "outputs": [
    {
     "name": "stdout",
     "output_type": "stream",
     "text": [
      "              precision    recall  f1-score   support\n",
      "\n",
      "           0       0.50      0.92      0.65        12\n",
      "           1       0.75      0.21      0.33        14\n",
      "\n",
      "    accuracy                           0.54        26\n",
      "   macro avg       0.62      0.57      0.49        26\n",
      "weighted avg       0.63      0.54      0.48        26\n",
      "\n"
     ]
    },
    {
     "data": {
      "image/png": "[encoded data removed]",
      "text/plain": [
       "<Figure size 400x400 with 1 Axes>"
      ]
     },
     "metadata": {},
     "output_type": "display_data"
    },
    {
     "name": "stdout",
     "output_type": "stream",
     "text": [
      "False Positive Rate (FPR): 0.083\n",
      "Recall: 0.214\n",
      "Negative Recall: 0.917\n",
      "Precision: 0.750\n",
      "F1 Score: 0.333\n"
     ]
    }
   ],
   "source": [
    "y_probs = dtc_pipeline.predict_proba(X_test)[:, 1]\n",
    "y_pred = dtc_pipeline.predict(X_test)\n",
    "\n",
    "# get the confusion matrix as a numpy array\n",
    "confmat = confusion_matrix(y_true = y_test, y_pred = y_pred)\n",
    "# use the pretty function to make it nicer\n",
    "\n",
    "LE = LabelEncoder()\n",
    "y_train = LE.fit_transform(y_train)\n",
    "y_test = LE.transform(y_test)\n",
    "FP_i = [0,1]\n",
    "TN_i = [0,0]\n",
    "TP_i = [1,1]\n",
    "FN_i = [1,0]\n",
    "\n",
    "# Extracting the quantities from the confusion matrix \n",
    "FP = confmat[0,1]\n",
    "TN = confmat[0,0]\n",
    "TP = confmat[1,1]\n",
    "FN = confmat[1,0]\n",
    "\n",
    "#Calculation of FPR, Recall, Precision and F1 Score\n",
    "# FPR\n",
    "FPR = (FP)/(FP+TN)\n",
    "# Recall\n",
    "Recall = (TP)/(TP+FN)\n",
    "Negative_Recall = (TN)/(TN+FP)\n",
    "\n",
    "# Precision\n",
    "Precision = (TP)/(FP+TP)\n",
    "# F1 Score\n",
    "F1 = 2 * (Precision * Recall)/(Precision + Recall)\n",
    "\n",
    "print(classification_report(y_test, y_pred))\n",
    "\n",
    "pretty_confusion_matrix(confmat, LE.classes_, \"\",\n",
    "                        labeling=True, highlight_indexes = [FP_i,FN_i,TP_i,TN_i])\n",
    "\n",
    "print('False Positive Rate (FPR): '+ '%.3f' % FPR)\n",
    "print('Recall: '+ '%.3f' % Recall)\n",
    "print('Negative Recall: '+'%.3f' % Negative_Recall)\n",
    "print('Precision: '+ '%.3f' % Precision)\n",
    "print('F1 Score: '+ '%.3f' % F1)"
   ]
  },
  {
   "cell_type": "markdown",
   "metadata": {},
   "source": [
    "Feature importance"
   ]
  },
  {
   "cell_type": "code",
   "execution_count": 27,
   "metadata": {},
   "outputs": [
    {
     "ename": "NameError",
     "evalue": "name 'fig' is not defined",
     "output_type": "error",
     "traceback": [
      "\u001b[1;31m---------------------------------------------------------------------------\u001b[0m",
      "\u001b[1;31mNameError\u001b[0m                                 Traceback (most recent call last)",
      "Cell \u001b[1;32mIn[27], line 12\u001b[0m\n\u001b[0;32m      9\u001b[0m     feature_importance_df\u001b[38;5;241m.\u001b[39mplot(kind\u001b[38;5;241m=\u001b[39m\u001b[38;5;124m\"\u001b[39m\u001b[38;5;124mbarh\u001b[39m\u001b[38;5;124m\"\u001b[39m)\n\u001b[0;32m     10\u001b[0m     fig\u001b[38;5;241m.\u001b[39mshow()\n\u001b[1;32m---> 12\u001b[0m \u001b[43mplot_feature_importance\u001b[49m\u001b[43m(\u001b[49m\u001b[43mdtc_pipeline\u001b[49m\u001b[43m[\u001b[49m\u001b[38;5;241;43m-\u001b[39;49m\u001b[38;5;241;43m1\u001b[39;49m\u001b[43m]\u001b[49m\u001b[43m,\u001b[49m\u001b[43m \u001b[49m\u001b[43mselected_feature_names\u001b[49m\u001b[43m)\u001b[49m\n",
      "Cell \u001b[1;32mIn[27], line 10\u001b[0m, in \u001b[0;36mplot_feature_importance\u001b[1;34m(model, names, threshold)\u001b[0m\n\u001b[0;32m      7\u001b[0m     feature_importance_df \u001b[38;5;241m=\u001b[39m feature_importance_df[feature_importance_df\u001b[38;5;241m.\u001b[39mfeature_importance \u001b[38;5;241m>\u001b[39m threshold]\n\u001b[0;32m      9\u001b[0m feature_importance_df\u001b[38;5;241m.\u001b[39mplot(kind\u001b[38;5;241m=\u001b[39m\u001b[38;5;124m\"\u001b[39m\u001b[38;5;124mbarh\u001b[39m\u001b[38;5;124m\"\u001b[39m)\n\u001b[1;32m---> 10\u001b[0m \u001b[43mfig\u001b[49m\u001b[38;5;241m.\u001b[39mshow()\n",
      "\u001b[1;31mNameError\u001b[0m: name 'fig' is not defined"
     ]
    },
    {
     "data": {
      "image/png": "[encoded data removed]",
      "text/plain": [
       "<Figure size 640x480 with 1 Axes>"
      ]
     },
     "metadata": {},
     "output_type": "display_data"
    }
   ],
   "source": [
    "def plot_feature_importance(model, names, threshold = None):\n",
    "    feature_importance_df = pd.DataFrame.from_dict({'feature_importance': model.feature_importances_[:len(names)],\n",
    "                                                    'feature': names})\\\n",
    "            .set_index('feature').sort_values('feature_importance', ascending = False)\n",
    "\n",
    "    if threshold is not None:\n",
    "        feature_importance_df = feature_importance_df[feature_importance_df.feature_importance > threshold]\n",
    "\n",
    "    feature_importance_df.plot(kind=\"barh\")\n",
    "    fig.show()\n",
    "\n",
    "plot_feature_importance(dtc_pipeline[-1], selected_feature_names)"
   ]
  },
  {
   "cell_type": "markdown",
   "metadata": {},
   "source": [
    "ROC curve "
   ]
  },
  {
   "cell_type": "code",
   "execution_count": 28,
   "metadata": {},
   "outputs": [
    {
     "name": "stdout",
     "output_type": "stream",
     "text": [
      "AUC value: 0.6011904761904762\n"
     ]
    },
    {
     "data": {
      "image/png": "[encoded data removed]",
      "text/plain": [
       "<Figure size 800x600 with 1 Axes>"
      ]
     },
     "metadata": {},
     "output_type": "display_data"
    }
   ],
   "source": [
    "predictions_pa = dtc_pipeline.predict_proba(X_test)\n",
    "\n",
    "roc_calc = roc_curve(y_true = y_test, y_score = predictions_pa[:,1])\n",
    "roc = pd.DataFrame(\n",
    "    data = np.c_[roc_calc],\n",
    "    columns = ('false positive rate', 'true positive rate', 'threshold')\n",
    ")\n",
    "print(\"AUC value:\", roc_auc_score(y_true = y_test, y_score = predictions_pa[:,1]))\n",
    "\n",
    "# Compute precision-recall curve\n",
    "baseline_precision, baseline_recall, thresholds = precision_recall_curve(y_test, predictions_pa[:,1])\n",
    "\n",
    "# Compute area under the curve (AUC)\n",
    "baseline_auc_score = auc(baseline_recall, baseline_precision)\n",
    "\n",
    "plot_roc_curve(roc)"
   ]
  },
  {
   "cell_type": "markdown",
   "metadata": {},
   "source": [
    "#### **Bagging Model**"
   ]
  },
  {
   "cell_type": "markdown",
   "metadata": {},
   "source": [
    "Hyperparameter optimization using hyperopt"
   ]
  },
  {
   "cell_type": "code",
   "execution_count": 47,
   "metadata": {},
   "outputs": [
    {
     "name": "stdout",
     "output_type": "stream",
     "text": [
      "100%|██████████| 500/500 [19:18<00:00,  2.32s/trial, best loss: -0.7333333333333334]\n",
      "Best hyperparameters: {'bootstrap': True, 'dt_class_weight': 'balanced', 'dt_criterion': 'entropy', 'dt_max_depth': np.int64(8), 'dt_min_samples_leaf': np.int64(2), 'dt_min_samples_split': np.int64(5), 'max_features': 1.0, 'max_samples': 1.0, 'n_estimators': np.int64(10), 'n_features': np.int64(1), 'random_state': 7980}\n"
     ]
    }
   ],
   "source": [
    "from sklearn.ensemble import BaggingClassifier\n",
    "\n",
    "def bag_importance_getter(estimator):\n",
    "    # Ensure the BaggingClassifier is fitted so that `estimators_` is available.\n",
    "    # Average the feature importances from each decision tree.\n",
    "    importances = np.array([tree.feature_importances_ for tree in estimator.estimators_])\n",
    "    return np.mean(importances, axis=0)\n",
    "\n",
    "def objective(params):\n",
    "    # the number of features, ensuring it is an integer\n",
    "    n_features = int(params['n_features'])\n",
    "\n",
    "    bag_params = {\n",
    "        \"n_estimators\": params['n_estimators'],    # single integer\n",
    "        \"max_samples\": params['max_samples'],        # single float\n",
    "        \"max_features\": params['max_features'],      # single float\n",
    "        \"bootstrap\": params['bootstrap'],            # single boolean\n",
    "        \"random_state\": params['random_state']       # seed value\n",
    "    }\n",
    "    \n",
    "    dt_params = {\n",
    "        \"max_depth\": params['dt_max_depth'],            # single integer\n",
    "        \"min_samples_split\": params['dt_min_samples_split'],  # single integer\n",
    "        \"min_samples_leaf\": params['dt_min_samples_leaf'],    # single integer\n",
    "        \"criterion\": params['dt_criterion'],            # single string\n",
    "        \"class_weight\": params['dt_class_weight']       # either None or \"balanced\"\n",
    "    }\n",
    "\n",
    "\n",
    "    classifier = BaggingClassifier(\n",
    "        estimator=DecisionTreeClassifier(**dt_params),\n",
    "        **bag_params\n",
    "    )\n",
    "    \n",
    "    # Set up the RFE with the classifier as the estimator\n",
    "    rfe = RFE(estimator=classifier, \n",
    "              n_features_to_select=n_features,\n",
    "              importance_getter=bag_importance_getter)\n",
    "    \n",
    "    # Create a pipeline that first does feature selection, then classification\n",
    "    pipeline = Pipeline(steps=[('rfe', rfe), ('clf', classifier)])\n",
    "    # Use cross-validation to evaluate performance using negative recall\n",
    "    score = cross_val_score(pipeline, X_train, y_train, scoring=negative_recall, cv=5).mean()\n",
    "    \n",
    "    # Hyperopt minimizes the objective, so return the negative score (to maximize negative recall)\n",
    "    return {'loss': -score, 'status': STATUS_OK}\n",
    "\n",
    "\n",
    "# Define the hyperparameter search space using hp.choice for discrete parameters\n",
    "search_space = {\n",
    "    # number of features\n",
    "    'n_features': hp.choice('n_features', list(np.arange(1, 7, 1, dtype=int))),\n",
    "    # bagging hyperparams\n",
    "    'n_estimators' : hp.choice('n_estimators', list(np.arange(10, 30, 10, dtype=int))),\n",
    "    'max_samples' : hp.choice('max_samples', [0.5, 0.7, 1.0]),\n",
    "    'max_features' : hp.choice('max_features', [1.0]),\n",
    "    'bootstrap' : hp.choice('bootstrap', [True, False]),\n",
    "    'random_state' : hp.choice('random_state', [seed]),\n",
    "    # decision tree hyperparams\n",
    "    'dt_max_depth' : hp.choice('dt_max_depth', list(np.arange(7, 14, 1, dtype=int))),\n",
    "    'dt_min_samples_split' : hp.choice('dt_min_samples_split', list(np.arange(4, 8, 1, dtype=int))),\n",
    "    'dt_min_samples_leaf' : hp.choice('dt_min_samples_leaf', list(np.arange(1, 4, 1, dtype=int))),\n",
    "    'dt_criterion' : hp.choice('dt_criterion', ['gini','entropy']),\n",
    "    'dt_class_weight' : hp.choice('dt_class_weight', [None, \"balanced\"])\n",
    "\n",
    "}\n",
    "trials = Trials()\n",
    "best = fmin(\n",
    "    fn = objective,\n",
    "    space = search_space,\n",
    "    algo = tpe.suggest,\n",
    "    max_evals=500,\n",
    "    trials = trials\n",
    ")\n",
    "\n",
    "best_params = space_eval(search_space, best)\n",
    "print(\"Best hyperparameters:\", best_params)"
   ]
  },
  {
   "cell_type": "markdown",
   "metadata": {},
   "source": [
    "optimal hyperparameters"
   ]
  },
  {
   "cell_type": "code",
   "execution_count": 48,
   "metadata": {},
   "outputs": [
    {
     "name": "stdout",
     "output_type": "stream",
     "text": [
      "Selected features: Index(['X2'], dtype='object')\n"
     ]
    }
   ],
   "source": [
    "\n",
    "dt_params = {k: v for k, v in best_params.items() if k.startswith('dt_')}\n",
    "dt_params = {\n",
    "    (k[len('dt_'):] if k.startswith('dt_') else k): v\n",
    "    for k, v in dt_params.items()\n",
    "}\n",
    "\n",
    "bag_params = {k: v for k, v in best_params.items() if not k.startswith('dt_')}\n",
    "n_features = int(bag_params['n_features'])\n",
    "del bag_params['n_features']\n",
    "\n",
    "\n",
    "classifier = BaggingClassifier(\n",
    "        estimator=DecisionTreeClassifier(**dt_params),\n",
    "        **bag_params\n",
    "    )\n",
    "\n",
    "rfe = RFE(estimator=classifier, \n",
    "              n_features_to_select=n_features,\n",
    "              importance_getter=bag_importance_getter)\n",
    "    \n",
    "    # Create a pipeline that first does feature selection, then classification\n",
    "bag_pipeline = Pipeline(steps=[('rfe', rfe), \n",
    "                ('model', classifier)])\n",
    "\n",
    "bag_pipeline.fit(X_train,y_train)\n",
    "\n",
    "mask = bag_pipeline.named_steps['rfe'].support_\n",
    "selected_feature_names_bag = X_train.columns[mask]\n",
    "print(\"Selected features:\", selected_feature_names_bag)\n"
   ]
  },
  {
   "cell_type": "markdown",
   "metadata": {},
   "source": [
    "Below I have plotted feature importance. As can be seen X3 and X1 features appear to be, again, the most important features in our model."
   ]
  },
  {
   "cell_type": "code",
   "execution_count": 49,
   "metadata": {},
   "outputs": [
    {
     "ename": "ValueError",
     "evalue": "All arrays must be of the same length",
     "output_type": "error",
     "traceback": [
      "\u001b[1;31m---------------------------------------------------------------------------\u001b[0m",
      "\u001b[1;31mValueError\u001b[0m                                Traceback (most recent call last)",
      "Cell \u001b[1;32mIn[49], line 17\u001b[0m\n\u001b[0;32m     15\u001b[0m \u001b[38;5;66;03m# Create a DataFrame for feature importance ranking\u001b[39;00m\n\u001b[0;32m     16\u001b[0m feature_names \u001b[38;5;241m=\u001b[39m X_train\u001b[38;5;241m.\u001b[39mcolumns  \n\u001b[1;32m---> 17\u001b[0m importance_df \u001b[38;5;241m=\u001b[39m \u001b[43mpd\u001b[49m\u001b[38;5;241;43m.\u001b[39;49m\u001b[43mDataFrame\u001b[49m\u001b[43m(\u001b[49m\u001b[43m{\u001b[49m\n\u001b[0;32m     18\u001b[0m \u001b[43m    \u001b[49m\u001b[38;5;124;43m\"\u001b[39;49m\u001b[38;5;124;43mFeature\u001b[39;49m\u001b[38;5;124;43m\"\u001b[39;49m\u001b[43m:\u001b[49m\u001b[43m \u001b[49m\u001b[43mfeature_names\u001b[49m\u001b[43m,\u001b[49m\n\u001b[0;32m     19\u001b[0m \u001b[43m    \u001b[49m\u001b[38;5;124;43m\"\u001b[39;49m\u001b[38;5;124;43mImportance\u001b[39;49m\u001b[38;5;124;43m\"\u001b[39;49m\u001b[43m:\u001b[49m\u001b[43m \u001b[49m\u001b[43mfeature_importances\u001b[49m\n\u001b[0;32m     20\u001b[0m \u001b[43m\u001b[49m\u001b[43m}\u001b[49m\u001b[43m)\u001b[49m\u001b[38;5;241m.\u001b[39msort_values(by\u001b[38;5;241m=\u001b[39m\u001b[38;5;124m\"\u001b[39m\u001b[38;5;124mImportance\u001b[39m\u001b[38;5;124m\"\u001b[39m, ascending\u001b[38;5;241m=\u001b[39m\u001b[38;5;28;01mFalse\u001b[39;00m)\n\u001b[0;32m     22\u001b[0m \u001b[38;5;66;03m# Print feature rankings\u001b[39;00m\n\u001b[0;32m     23\u001b[0m \u001b[38;5;28mprint\u001b[39m(\u001b[38;5;124m\"\u001b[39m\u001b[38;5;124mFeature Importances:\u001b[39m\u001b[38;5;124m\"\u001b[39m)\n",
      "File \u001b[1;32m~\\AppData\\Local\\Packages\\PythonSoftwareFoundation.Python.3.11_qbz5n2kfra8p0\\LocalCache\\local-packages\\Python311\\site-packages\\pandas\\core\\frame.py:778\u001b[0m, in \u001b[0;36mDataFrame.__init__\u001b[1;34m(self, data, index, columns, dtype, copy)\u001b[0m\n\u001b[0;32m    772\u001b[0m     mgr \u001b[38;5;241m=\u001b[39m \u001b[38;5;28mself\u001b[39m\u001b[38;5;241m.\u001b[39m_init_mgr(\n\u001b[0;32m    773\u001b[0m         data, axes\u001b[38;5;241m=\u001b[39m{\u001b[38;5;124m\"\u001b[39m\u001b[38;5;124mindex\u001b[39m\u001b[38;5;124m\"\u001b[39m: index, \u001b[38;5;124m\"\u001b[39m\u001b[38;5;124mcolumns\u001b[39m\u001b[38;5;124m\"\u001b[39m: columns}, dtype\u001b[38;5;241m=\u001b[39mdtype, copy\u001b[38;5;241m=\u001b[39mcopy\n\u001b[0;32m    774\u001b[0m     )\n\u001b[0;32m    776\u001b[0m \u001b[38;5;28;01melif\u001b[39;00m \u001b[38;5;28misinstance\u001b[39m(data, \u001b[38;5;28mdict\u001b[39m):\n\u001b[0;32m    777\u001b[0m     \u001b[38;5;66;03m# GH#38939 de facto copy defaults to False only in non-dict cases\u001b[39;00m\n\u001b[1;32m--> 778\u001b[0m     mgr \u001b[38;5;241m=\u001b[39m \u001b[43mdict_to_mgr\u001b[49m\u001b[43m(\u001b[49m\u001b[43mdata\u001b[49m\u001b[43m,\u001b[49m\u001b[43m \u001b[49m\u001b[43mindex\u001b[49m\u001b[43m,\u001b[49m\u001b[43m \u001b[49m\u001b[43mcolumns\u001b[49m\u001b[43m,\u001b[49m\u001b[43m \u001b[49m\u001b[43mdtype\u001b[49m\u001b[38;5;241;43m=\u001b[39;49m\u001b[43mdtype\u001b[49m\u001b[43m,\u001b[49m\u001b[43m \u001b[49m\u001b[43mcopy\u001b[49m\u001b[38;5;241;43m=\u001b[39;49m\u001b[43mcopy\u001b[49m\u001b[43m,\u001b[49m\u001b[43m \u001b[49m\u001b[43mtyp\u001b[49m\u001b[38;5;241;43m=\u001b[39;49m\u001b[43mmanager\u001b[49m\u001b[43m)\u001b[49m\n\u001b[0;32m    779\u001b[0m \u001b[38;5;28;01melif\u001b[39;00m \u001b[38;5;28misinstance\u001b[39m(data, ma\u001b[38;5;241m.\u001b[39mMaskedArray):\n\u001b[0;32m    780\u001b[0m     \u001b[38;5;28;01mfrom\u001b[39;00m\u001b[38;5;250m \u001b[39m\u001b[38;5;21;01mnumpy\u001b[39;00m\u001b[38;5;21;01m.\u001b[39;00m\u001b[38;5;21;01mma\u001b[39;00m\u001b[38;5;250m \u001b[39m\u001b[38;5;28;01mimport\u001b[39;00m mrecords\n",
      "File \u001b[1;32m~\\AppData\\Local\\Packages\\PythonSoftwareFoundation.Python.3.11_qbz5n2kfra8p0\\LocalCache\\local-packages\\Python311\\site-packages\\pandas\\core\\internals\\construction.py:503\u001b[0m, in \u001b[0;36mdict_to_mgr\u001b[1;34m(data, index, columns, dtype, typ, copy)\u001b[0m\n\u001b[0;32m    499\u001b[0m     \u001b[38;5;28;01melse\u001b[39;00m:\n\u001b[0;32m    500\u001b[0m         \u001b[38;5;66;03m# dtype check to exclude e.g. range objects, scalars\u001b[39;00m\n\u001b[0;32m    501\u001b[0m         arrays \u001b[38;5;241m=\u001b[39m [x\u001b[38;5;241m.\u001b[39mcopy() \u001b[38;5;28;01mif\u001b[39;00m \u001b[38;5;28mhasattr\u001b[39m(x, \u001b[38;5;124m\"\u001b[39m\u001b[38;5;124mdtype\u001b[39m\u001b[38;5;124m\"\u001b[39m) \u001b[38;5;28;01melse\u001b[39;00m x \u001b[38;5;28;01mfor\u001b[39;00m x \u001b[38;5;129;01min\u001b[39;00m arrays]\n\u001b[1;32m--> 503\u001b[0m \u001b[38;5;28;01mreturn\u001b[39;00m \u001b[43marrays_to_mgr\u001b[49m\u001b[43m(\u001b[49m\u001b[43marrays\u001b[49m\u001b[43m,\u001b[49m\u001b[43m \u001b[49m\u001b[43mcolumns\u001b[49m\u001b[43m,\u001b[49m\u001b[43m \u001b[49m\u001b[43mindex\u001b[49m\u001b[43m,\u001b[49m\u001b[43m \u001b[49m\u001b[43mdtype\u001b[49m\u001b[38;5;241;43m=\u001b[39;49m\u001b[43mdtype\u001b[49m\u001b[43m,\u001b[49m\u001b[43m \u001b[49m\u001b[43mtyp\u001b[49m\u001b[38;5;241;43m=\u001b[39;49m\u001b[43mtyp\u001b[49m\u001b[43m,\u001b[49m\u001b[43m \u001b[49m\u001b[43mconsolidate\u001b[49m\u001b[38;5;241;43m=\u001b[39;49m\u001b[43mcopy\u001b[49m\u001b[43m)\u001b[49m\n",
      "File \u001b[1;32m~\\AppData\\Local\\Packages\\PythonSoftwareFoundation.Python.3.11_qbz5n2kfra8p0\\LocalCache\\local-packages\\Python311\\site-packages\\pandas\\core\\internals\\construction.py:114\u001b[0m, in \u001b[0;36marrays_to_mgr\u001b[1;34m(arrays, columns, index, dtype, verify_integrity, typ, consolidate)\u001b[0m\n\u001b[0;32m    111\u001b[0m \u001b[38;5;28;01mif\u001b[39;00m verify_integrity:\n\u001b[0;32m    112\u001b[0m     \u001b[38;5;66;03m# figure out the index, if necessary\u001b[39;00m\n\u001b[0;32m    113\u001b[0m     \u001b[38;5;28;01mif\u001b[39;00m index \u001b[38;5;129;01mis\u001b[39;00m \u001b[38;5;28;01mNone\u001b[39;00m:\n\u001b[1;32m--> 114\u001b[0m         index \u001b[38;5;241m=\u001b[39m \u001b[43m_extract_index\u001b[49m\u001b[43m(\u001b[49m\u001b[43marrays\u001b[49m\u001b[43m)\u001b[49m\n\u001b[0;32m    115\u001b[0m     \u001b[38;5;28;01melse\u001b[39;00m:\n\u001b[0;32m    116\u001b[0m         index \u001b[38;5;241m=\u001b[39m ensure_index(index)\n",
      "File \u001b[1;32m~\\AppData\\Local\\Packages\\PythonSoftwareFoundation.Python.3.11_qbz5n2kfra8p0\\LocalCache\\local-packages\\Python311\\site-packages\\pandas\\core\\internals\\construction.py:677\u001b[0m, in \u001b[0;36m_extract_index\u001b[1;34m(data)\u001b[0m\n\u001b[0;32m    675\u001b[0m lengths \u001b[38;5;241m=\u001b[39m \u001b[38;5;28mlist\u001b[39m(\u001b[38;5;28mset\u001b[39m(raw_lengths))\n\u001b[0;32m    676\u001b[0m \u001b[38;5;28;01mif\u001b[39;00m \u001b[38;5;28mlen\u001b[39m(lengths) \u001b[38;5;241m>\u001b[39m \u001b[38;5;241m1\u001b[39m:\n\u001b[1;32m--> 677\u001b[0m     \u001b[38;5;28;01mraise\u001b[39;00m \u001b[38;5;167;01mValueError\u001b[39;00m(\u001b[38;5;124m\"\u001b[39m\u001b[38;5;124mAll arrays must be of the same length\u001b[39m\u001b[38;5;124m\"\u001b[39m)\n\u001b[0;32m    679\u001b[0m \u001b[38;5;28;01mif\u001b[39;00m have_dicts:\n\u001b[0;32m    680\u001b[0m     \u001b[38;5;28;01mraise\u001b[39;00m \u001b[38;5;167;01mValueError\u001b[39;00m(\n\u001b[0;32m    681\u001b[0m         \u001b[38;5;124m\"\u001b[39m\u001b[38;5;124mMixing dicts with non-Series may lead to ambiguous ordering.\u001b[39m\u001b[38;5;124m\"\u001b[39m\n\u001b[0;32m    682\u001b[0m     )\n",
      "\u001b[1;31mValueError\u001b[0m: All arrays must be of the same length"
     ]
    }
   ],
   "source": [
    "import numpy as np\n",
    "import pandas as pd\n",
    "import matplotlib.pyplot as plt\n",
    "\n",
    "# Extract the BaggingClassifier from the pipeline\n",
    "bagging_model = bag_pipeline.named_steps[\"model\"]\n",
    "\n",
    "# Check if the base estimator has feature importances\n",
    "if hasattr(bagging_model.estimators_[0], \"feature_importances_\"):\n",
    "    # Average feature importances across all base estimators\n",
    "    feature_importances = np.mean(\n",
    "        [tree.feature_importances_ for tree in bagging_model.estimators_], axis=0\n",
    "    )\n",
    "\n",
    "    # Create a DataFrame for feature importance ranking\n",
    "    feature_names = X_train.columns  \n",
    "    importance_df = pd.DataFrame({\n",
    "        \"Feature\": feature_names,\n",
    "        \"Importance\": feature_importances\n",
    "    }).sort_values(by=\"Importance\", ascending=False)\n",
    "\n",
    "    # Print feature rankings\n",
    "    print(\"Feature Importances:\")\n",
    "    print(importance_df)\n",
    "\n",
    "    # Visualize feature importances\n",
    "    plt.figure(figsize=(10, 6))\n",
    "    plt.barh(importance_df[\"Feature\"], importance_df[\"Importance\"], color=\"skyblue\")\n",
    "    plt.gca().invert_yaxis()\n",
    "    plt.title(\"Feature Importances from Bagging Model\")\n",
    "    plt.xlabel(\"Importance\")\n",
    "    plt.ylabel(\"Feature\")\n",
    "    plt.show()\n",
    "else:\n",
    "    print(\"The base estimator does not support feature importances.\")\n"
   ]
  },
  {
   "cell_type": "markdown",
   "metadata": {},
   "source": [
    "Below is the ROC curve for this model. As can be seen, model performs only marginally better than a random guess."
   ]
  },
  {
   "cell_type": "code",
   "execution_count": 50,
   "metadata": {},
   "outputs": [
    {
     "name": "stdout",
     "output_type": "stream",
     "text": [
      "AUC value: 0.5327380952380952\n"
     ]
    },
    {
     "data": {
      "image/png": "[encoded data removed]",
      "text/plain": [
       "<Figure size 800x600 with 1 Axes>"
      ]
     },
     "metadata": {},
     "output_type": "display_data"
    }
   ],
   "source": [
    "predictions_pa = bag_pipeline.predict_proba(X_test)\n",
    "\n",
    "roc_calc = roc_curve(y_true = y_test, y_score = predictions_pa[:,1])\n",
    "roc = pd.DataFrame(\n",
    "    data = np.c_[roc_calc],\n",
    "    columns = ('false positive rate', 'true positive rate', 'threshold')\n",
    ")\n",
    "print(\"AUC value:\", roc_auc_score(y_true = y_test, y_score = predictions_pa[:,1]))\n",
    "\n",
    "# Compute precision-recall curve\n",
    "baseline_precision, baseline_recall, thresholds = precision_recall_curve(y_test, predictions_pa[:,1])\n",
    "\n",
    "# Compute area under the curve (AUC)\n",
    "baseline_auc_score = auc(baseline_recall, baseline_precision)\n",
    "\n",
    "plot_roc_curve(roc)"
   ]
  },
  {
   "cell_type": "markdown",
   "metadata": {},
   "source": [
    "Below, is the confusion matrix for the model results on the test data. As can be seen, the model classifies 67% of the negative cases correctly. Thus, it performs tolerably well at classifying negative cases. It performs less well at classifying positive cases (recall of 57%). "
   ]
  },
  {
   "cell_type": "code",
   "execution_count": 51,
   "metadata": {},
   "outputs": [
    {
     "name": "stdout",
     "output_type": "stream",
     "text": [
      "              precision    recall  f1-score   support\n",
      "\n",
      "           0       0.56      0.75      0.64        12\n",
      "           1       0.70      0.50      0.58        14\n",
      "\n",
      "    accuracy                           0.62        26\n",
      "   macro avg       0.63      0.62      0.61        26\n",
      "weighted avg       0.64      0.62      0.61        26\n",
      "\n"
     ]
    },
    {
     "data": {
      "image/png": "[encoded data removed]",
      "text/plain": [
       "<Figure size 400x400 with 1 Axes>"
      ]
     },
     "metadata": {},
     "output_type": "display_data"
    },
    {
     "name": "stdout",
     "output_type": "stream",
     "text": [
      "False Positive Rate (FPR): 0.250\n",
      "Recall: 0.500\n",
      "Negative Recall: 0.750\n",
      "Precision: 0.700\n",
      "F1 Score: 0.583\n"
     ]
    }
   ],
   "source": [
    "y_probs = bag_pipeline.predict_proba(X_test)[:, 1]\n",
    "y_pred = bag_pipeline.predict(X_test)\n",
    "\n",
    "# get the confusion matrix as a numpy array\n",
    "confmat = confusion_matrix(y_true = y_test, y_pred = y_pred)\n",
    "# use the pretty function to make it nicer\n",
    "\n",
    "LE = LabelEncoder()\n",
    "y_train = LE.fit_transform(y_train)\n",
    "y_test = LE.transform(y_test)\n",
    "FP_i = [0,1]\n",
    "TN_i = [0,0]\n",
    "TP_i = [1,1]\n",
    "FN_i = [1,0]\n",
    "\n",
    "# Extracting the quantities from the confusion matrix \n",
    "FP = confmat[0,1]\n",
    "TN = confmat[0,0]\n",
    "TP = confmat[1,1]\n",
    "FN = confmat[1,0]\n",
    "\n",
    "#Calculation of FPR, Recall, Precision and F1 Score\n",
    "# FPR\n",
    "FPR = (FP)/(FP+TN)\n",
    "# Recall\n",
    "Recall = (TP)/(TP+FN)\n",
    "# Negative recall\n",
    "Negative_Recall = (TN)/(TN+FP)\n",
    "# Precision\n",
    "Precision = (TP)/(FP+TP)\n",
    "# F1 Score\n",
    "F1 = 2 * (Precision * Recall)/(Precision + Recall)\n",
    "\n",
    "print(classification_report(y_test, y_pred))\n",
    "\n",
    "pretty_confusion_matrix(confmat, LE.classes_, \"\",\n",
    "                        labeling=True, highlight_indexes = [FP_i,FN_i,TP_i,TN_i])\n",
    "\n",
    "print('False Positive Rate (FPR): '+ '%.3f' % FPR)\n",
    "print('Recall: '+ '%.3f' % Recall)\n",
    "print('Negative Recall: '+'%.3f' % Negative_Recall)\n",
    "\n",
    "print('Precision: '+ '%.3f' % Precision)\n",
    "print('F1 Score: '+ '%.3f' % F1)"
   ]
  },
  {
   "cell_type": "markdown",
   "metadata": {},
   "source": [
    "# **Random forests**"
   ]
  },
  {
   "cell_type": "code",
   "execution_count": 25,
   "metadata": {},
   "outputs": [
    {
     "name": "stdout",
     "output_type": "stream",
     "text": [
      "  0%|          | 0/20 [00:00<?, ?trial/s, best loss=?]"
     ]
    },
    {
     "name": "stdout",
     "output_type": "stream",
     "text": [
      "100%|██████████| 20/20 [00:19<00:00,  1.03trial/s, best loss: -0.6666666666666666]\n",
      "Best hyperparameters: {'bootstrap': True, 'class_weight': 'balanced', 'criterion': 'gini', 'max_depth': np.int64(12), 'max_features': 'sqrt', 'max_samples': 1.0, 'min_samples_leaf': np.int64(2), 'min_samples_split': np.int64(5), 'n_estimators': 10, 'n_features': 4, 'random_state': 7980}\n"
     ]
    }
   ],
   "source": [
    "from sklearn.ensemble import RandomForestClassifier\n",
    "\n",
    "negative_recall = make_scorer(recall_score, pos_label=0)\n",
    "\n",
    "\n",
    "def objective(params):\n",
    "\n",
    "    n_features = int(params['n_features'])\n",
    "\n",
    "    rf_params = {\n",
    "        \n",
    "        \"n_estimators\": params['n_estimators'],  # Number of trees in the forest\n",
    "        \"max_depth\": params['max_depth'],  # Maximum depth of trees\n",
    "        \"min_samples_split\": params['min_samples_split'],  # Minimum samples required to split\n",
    "        \"min_samples_leaf\": params['min_samples_leaf'],  # Minimum samples required at a leaf node\n",
    "        \"max_features\": params['max_features'],  # Number of features to consider for the best split\n",
    "        \"criterion\": params['criterion'],\n",
    "        \"max_samples\": params['max_samples'],\n",
    "        \"bootstrap\": params['bootstrap'],  # Whether to bootstrap samples\n",
    "        \"class_weight\": params['class_weight'],  # Adjust weights for imbalanced classes\n",
    "        \"random_state\": params['random_state']  # Random state for reproducibility\n",
    "\n",
    "    }\n",
    "\n",
    "    classifier = RandomForestClassifier(**rf_params)\n",
    "    rfe = RFE(estimator=classifier, \n",
    "              n_features_to_select=n_features)\n",
    "\n",
    "    pipeline = Pipeline(steps= [('rfe',rfe),('clf',classifier)])\n",
    "    score = cross_val_score(pipeline, X_train, y_train, scoring = negative_recall, cv=5).mean()\n",
    "    return {'loss': -score, 'status': STATUS_OK}\n",
    "\n",
    "search_space = {\n",
    "    \"n_features\" : hp.choice('n_features', [1,2,3,4,5]),\n",
    "    \"n_estimators\": hp.choice('n_estimators', [10]),  # Number of trees in the forest\n",
    "    \"max_depth\": hp.choice('max_depth', [None] + list(np.arange(7, 14, 1))),  # Maximum depth of trees\n",
    "    \"min_samples_split\": hp.choice('min_samples_split', list(np.arange(2, 6, 1))),  # Minimum samples required to split\n",
    "    \"min_samples_leaf\": hp.choice('min_samples_leaf', list(np.arange(1, 4, 1))),  # Minimum samples required at a leaf node\n",
    "    \"max_features\": hp.choice('max_features', [\"sqrt\", \"log2\", None]),  # Number of features to consider for the best split\n",
    "    \"criterion\": hp.choice('criterion', [\"gini\", \"entropy\"]),\n",
    "    \"max_samples\": hp.choice('max_samples',[0.5, 0.7, 1.0]),\n",
    "    \"bootstrap\": hp.choice('bootstrap',[True]),  # Whether to bootstrap samples\n",
    "    \"class_weight\": hp.choice('class_weight', [None, \"balanced\"]),  # Adjust weights for imbalanced classes\n",
    "    \"random_state\": hp.choice('random_state',[seed])  # Random state for reproducibility\n",
    "\n",
    "}\n",
    "\n",
    "trials = Trials()\n",
    "best = fmin(\n",
    "    fn = objective,\n",
    "    space = search_space,\n",
    "    algo = tpe.suggest,\n",
    "    max_evals=20,\n",
    "    trials = trials\n",
    ")\n",
    "\n",
    "best_params = space_eval(search_space, best)\n",
    "print(\"Best hyperparameters:\", best_params)\n"
   ]
  },
  {
   "cell_type": "code",
   "execution_count": 27,
   "metadata": {},
   "outputs": [
    {
     "name": "stdout",
     "output_type": "stream",
     "text": [
      "Selected features: Index(['X1', 'X3', 'X4', 'X5'], dtype='object')\n"
     ]
    }
   ],
   "source": [
    "import copy\n",
    "\n",
    "rf_params = copy.deepcopy(best_params)\n",
    "n_features = int(rf_params['n_features'])\n",
    "del rf_params['n_features']\n",
    "\n",
    "\n",
    "classifier = RandomForestClassifier(**rf_params)\n",
    "rfe = RFE(estimator=classifier, n_features_to_select=n_features)\n",
    "\n",
    "rf_pipeline = Pipeline(steps= [('rfe',rfe),('clf',classifier)])\n",
    "\n",
    "rf_pipeline.fit(X_train,y_train)\n",
    "\n",
    "mask = rf_pipeline.named_steps['rfe'].support_\n",
    "selected_feature_names_rf = X_train.columns[mask]\n",
    "\n",
    "print(\"Selected features:\", selected_feature_names_rf)"
   ]
  },
  {
   "cell_type": "code",
   "execution_count": 29,
   "metadata": {},
   "outputs": [
    {
     "name": "stdout",
     "output_type": "stream",
     "text": [
      "Feature Importances:\n",
      "  Feature  Importance\n",
      "1      X3        0.35\n",
      "0      X1        0.27\n",
      "3      X5        0.26\n",
      "2      X4        0.12\n"
     ]
    },
    {
     "data": {
      "image/png": "[encoded data removed]",
      "text/plain": [
       "<Figure size 1000x600 with 1 Axes>"
      ]
     },
     "metadata": {},
     "output_type": "display_data"
    }
   ],
   "source": [
    "# Extract the RandomForestClassifier from the pipeline\n",
    "rf_model = rf_pipeline.named_steps[\"clf\"]\n",
    "\n",
    "# Check if the model has feature_importances_ attribute\n",
    "if hasattr(rf_model, \"feature_importances_\"):\n",
    "    # Get feature importances\n",
    "    feature_importances = rf_model.feature_importances_\n",
    "\n",
    "    # Create a DataFrame for feature importance ranking\n",
    "    importance_df = pd.DataFrame({\n",
    "        \"Feature\": selected_feature_names_rf,\n",
    "        \"Importance\": feature_importances\n",
    "    }).sort_values(by=\"Importance\", ascending=False)\n",
    "\n",
    "    # Print feature rankings\n",
    "    print(\"Feature Importances:\")\n",
    "    print(importance_df)\n",
    "\n",
    "    # Visualize feature importances\n",
    "    plt.figure(figsize=(10, 6))\n",
    "    plt.barh(importance_df[\"Feature\"], importance_df[\"Importance\"], color=\"skyblue\")\n",
    "    plt.gca().invert_yaxis()\n",
    "    plt.title(\"Feature Importances from Random Forest\")\n",
    "    plt.xlabel(\"Importance\")\n",
    "    plt.ylabel(\"Feature\")\n",
    "    plt.show()\n",
    "else:\n",
    "    print(\"The model does not support feature importances.\")\n"
   ]
  },
  {
   "cell_type": "code",
   "execution_count": 30,
   "metadata": {},
   "outputs": [
    {
     "name": "stdout",
     "output_type": "stream",
     "text": [
      "Negative Recall: 0.667\n",
      "              precision    recall  f1-score   support\n",
      "\n",
      "           0       0.50      0.67      0.57        12\n",
      "           1       0.60      0.43      0.50        14\n",
      "\n",
      "    accuracy                           0.54        26\n",
      "   macro avg       0.55      0.55      0.54        26\n",
      "weighted avg       0.55      0.54      0.53        26\n",
      "\n"
     ]
    },
    {
     "data": {
      "image/png": "[encoded data removed]",
      "text/plain": [
       "<Figure size 400x400 with 1 Axes>"
      ]
     },
     "metadata": {},
     "output_type": "display_data"
    },
    {
     "name": "stdout",
     "output_type": "stream",
     "text": [
      "False Positive Rate (FPR): 0.333\n",
      "Recall: 0.429\n",
      "Negative Recall: 0.667\n",
      "Precision: 0.600\n",
      "F1 Score: 0.500\n"
     ]
    }
   ],
   "source": [
    "y_probs = rf_pipeline.predict_proba(X_test)[:, 1]\n",
    "y_pred = rf_pipeline.predict(X_test)\n",
    "\n",
    "# get the confusion matrix as a numpy array\n",
    "confmat = confusion_matrix(y_true = y_test, y_pred = y_pred)\n",
    "# use the pretty function to make it nicer\n",
    "\n",
    "LE = LabelEncoder()\n",
    "y_train = LE.fit_transform(y_train)\n",
    "y_test = LE.transform(y_test)\n",
    "FP_i = [0,1]\n",
    "TN_i = [0,0]\n",
    "TP_i = [1,1]\n",
    "FN_i = [1,0]\n",
    "\n",
    "# Extracting the quantities from the confusion matrix \n",
    "FP = confmat[0,1]\n",
    "TN = confmat[0,0]\n",
    "TP = confmat[1,1]\n",
    "FN = confmat[1,0]\n",
    "\n",
    "#Calculation of FPR, Recall, Precision and F1 Score\n",
    "# FPR\n",
    "FPR = (FP)/(FP+TN)\n",
    "# Recall\n",
    "Recall = (TP)/(TP+FN)\n",
    "Negative_Recall = (TN)/(TN+FP)\n",
    "print('Negative Recall: '+'%.3f' % Negative_Recall)\n",
    "\n",
    "\n",
    "# Precision\n",
    "Precision = (TP)/(FP+TP)\n",
    "# F1 Score\n",
    "F1 = 2 * (Precision * Recall)/(Precision + Recall)\n",
    "\n",
    "print(classification_report(y_test, y_pred))\n",
    "\n",
    "pretty_confusion_matrix(confmat, LE.classes_, \"\",\n",
    "                        labeling=True, highlight_indexes = [FP_i,FN_i,TP_i,TN_i])\n",
    "\n",
    "print('False Positive Rate (FPR): '+ '%.3f' % FPR)\n",
    "print('Recall: '+ '%.3f' % Recall)\n",
    "print('Negative Recall: '+'%.3f' % Negative_Recall)\n",
    "\n",
    "print('Precision: '+ '%.3f' % Precision)\n",
    "print('F1 Score: '+ '%.3f' % F1)"
   ]
  },
  {
   "cell_type": "code",
   "execution_count": 31,
   "metadata": {},
   "outputs": [
    {
     "name": "stdout",
     "output_type": "stream",
     "text": [
      "AUC value: 0.5089285714285714\n"
     ]
    },
    {
     "data": {
      "image/png": "[encoded data removed]",
      "text/plain": [
       "<Figure size 800x600 with 1 Axes>"
      ]
     },
     "metadata": {},
     "output_type": "display_data"
    }
   ],
   "source": [
    "predictions_pa = rf_pipeline.predict_proba(X_test)\n",
    "\n",
    "roc_calc = roc_curve(y_true = y_test, y_score = predictions_pa[:,1])\n",
    "roc = pd.DataFrame(\n",
    "    data = np.c_[roc_calc],\n",
    "    columns = ('false positive rate', 'true positive rate', 'threshold')\n",
    ")\n",
    "print(\"AUC value:\", roc_auc_score(y_true = y_test, y_score = predictions_pa[:,1]))\n",
    "\n",
    "# Compute precision-recall curve\n",
    "baseline_precision, baseline_recall, thresholds = precision_recall_curve(y_test, predictions_pa[:,1])\n",
    "\n",
    "# Compute area under the curve (AUC)\n",
    "baseline_auc_score = auc(baseline_recall, baseline_precision)\n",
    "\n",
    "plot_roc_curve(roc)"
   ]
  },
  {
   "cell_type": "markdown",
   "metadata": {},
   "source": [
    "Going Forward\n",
    "\n",
    "- Looking at even more reduced dataset?\n",
    "- ExtraTreeClassifier\n",
    "- Adaboost\n",
    "- KNeighbours Classifier"
   ]
  }
 ],
 "metadata": {
  "kernelspec": {
   "display_name": "Python 3",
   "language": "python",
   "name": "python3"
  },
  "language_info": {
   "codemirror_mode": {
    "name": "ipython",
    "version": 3
   },
   "file_extension": ".py",
   "mimetype": "text/x-python",
   "name": "python",
   "nbconvert_exporter": "python",
   "pygments_lexer": "ipython3",
   "version": "3.11.9"
  }
 },
 "nbformat": 4,
 "nbformat_minor": 2
}
